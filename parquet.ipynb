{
 "cells": [
  {
   "cell_type": "code",
   "execution_count": null,
   "metadata": {},
   "outputs": [],
   "source": [
    "\n",
    "from users import *\n",
    "import polars as pl\n",
    "\n",
    "warpcast_hub_key = os.getenv(\"WARPCAST_HUB_KEY\")\n",
    "\n",
    "users = get_all_users_from_warpcast(warpcast_hub_key)\n"
   ]
  },
  {
   "cell_type": "code",
   "execution_count": null,
   "metadata": {},
   "outputs": [],
   "source": [
    "warpcast_data = [extract_warpcast_user_data(u) for u in users]\n",
    "\n",
    "# Define the column names and data types for the DataFrame\n",
    "users_cols = {\n",
    "    'fid': pl.UInt32,\n",
    "    'username': pl.Utf8,\n",
    "    'display_name': pl.Utf8,\n",
    "    'verified': pl.Boolean,\n",
    "    'pfp_url': pl.Utf8,\n",
    "    'follower_count': pl.UInt32,\n",
    "    'following_count': pl.UInt32,\n",
    "    'bio_text': pl.Utf8,\n",
    "    'location_place_id': pl.Utf8,\n",
    "}\n",
    "\n",
    "\n",
    "def extract_warpcast_user_data(user):\n",
    "    return {\n",
    "        'fid': user['fid'],\n",
    "        'username': user['username'],\n",
    "        'display_name': user['displayName'],\n",
    "        'verified': user['pfp']['verified'] if 'pfp' in user else False,\n",
    "        'pfp_url': user['pfp']['url'] if 'pfp' in user else '',\n",
    "        'follower_count': user['followerCount'],\n",
    "        'following_count': user['followingCount'],\n",
    "        'bio_text': user['profile']['bio']['text'] if 'bio' in user['profile'] else None,\n",
    "        'location_place_id': user['profile']['location']['placeId'] if 'location' in user['profile'] else None\n",
    "    }\n",
    "\n",
    "\n",
    "users_df = pl.DataFrame(warpcast_data, schema=users_cols)\n",
    "users_df.write_parquet('users.parquet')\n"
   ]
  },
  {
   "cell_type": "code",
   "execution_count": null,
   "metadata": {},
   "outputs": [],
   "source": [
    "locations_col = {\n",
    "    'place_id': pl.Utf8,\n",
    "    'description': pl.Utf8,\n",
    "}\n",
    "\n",
    "def get_warpcast_location(user) -> Optional[dict]:\n",
    "    if 'location' in user['profile']:\n",
    "        place_id = user['profile']['location'].get('placeId')\n",
    "        if place_id:\n",
    "            description = user['profile']['location'].get('description')\n",
    "            return {'place_id': place_id, 'description': description}\n",
    "    return None\n",
    "locations = [get_warpcast_location(u) for u in users]\n",
    "print(locations)\n",
    "\n",
    "locations = [l for l in locations if l is not None]\n",
    "\n",
    "locations_df = pl.DataFrame(locations, schema=locations_col)\n",
    "locations_df.write_parquet('locations.parquet')\n"
   ]
  },
  {
   "cell_type": "code",
   "execution_count": 5,
   "metadata": {},
   "outputs": [
    {
     "name": "stdout",
     "output_type": "stream",
     "text": [
      "shape: (19, 11)\n",
      "┌───────┬────────────┬────────────┬──────────┬───┬────────────┬────────────┬───────────┬───────────┐\n",
      "│ fid   ┆ username   ┆ display_na ┆ verified ┆ … ┆ bio_text   ┆ location_p ┆ place_id  ┆ descripti │\n",
      "│ ---   ┆ ---        ┆ me         ┆ ---      ┆   ┆ ---        ┆ lace_id    ┆ ---       ┆ on        │\n",
      "│ u32   ┆ str        ┆ ---        ┆ bool     ┆   ┆ str        ┆ ---        ┆ str       ┆ ---       │\n",
      "│       ┆            ┆ str        ┆          ┆   ┆            ┆ str        ┆           ┆ str       │\n",
      "╞═══════╪════════════╪════════════╪══════════╪═══╪════════════╪════════════╪═══════════╪═══════════╡\n",
      "│ 10993 ┆ minatofund ┆ MinatoFund ┆ false    ┆ … ┆ MinatoFund ┆ ChIJXSModo ┆ ChIJXSMod ┆ Tokyo,    │\n",
      "│       ┆            ┆            ┆          ┆   ┆            ┆ WLGGARILWi ┆ oWLGGARIL ┆ Japan     │\n",
      "│       ┆            ┆            ┆          ┆   ┆            ┆ Cfeu2M0    ┆ WiCfeu2M0 ┆           │\n",
      "│ 10726 ┆ nishavtvl  ┆ Nisha      ┆ false    ┆ … ┆ cofounder  ┆ ChIJ4eIGNF ┆ ChIJ4eIGN ┆ Osaka,    │\n",
      "│       ┆            ┆            ┆          ┆   ┆ of VTVL, a ┆ XmAGAR5y9q ┆ FXmAGAR5y ┆ Japan     │\n",
      "│       ┆            ┆            ┆          ┆   ┆ token      ┆ 5G7BW8U    ┆ 9q5G7BW8U ┆           │\n",
      "│       ┆            ┆            ┆          ┆   ┆ manag…     ┆            ┆           ┆           │\n",
      "│ 10656 ┆ walan      ┆ walan      ┆ false    ┆ … ┆ Digital    ┆ ChIJXSModo ┆ ChIJXSMod ┆ Tokyo,    │\n",
      "│       ┆            ┆            ┆          ┆   ┆ Collectibl ┆ WLGGARILWi ┆ oWLGGARIL ┆ Japan     │\n",
      "│       ┆            ┆            ┆          ┆   ┆ es         ┆ Cfeu2M0    ┆ WiCfeu2M0 ┆           │\n",
      "│       ┆            ┆            ┆          ┆   ┆ ENJOYOOR   ┆            ┆           ┆           │\n",
      "│       ┆            ┆            ┆          ┆   ┆ L0…        ┆            ┆           ┆           │\n",
      "│ 10622 ┆ oga        ┆ Osamu      ┆ true     ┆ … ┆ awabar     ┆ ChIJ8cM8zd ┆ ChIJ8cM8z ┆ Kyoto,    │\n",
      "│       ┆            ┆ OGASAHARA  ┆          ┆   ┆ owner      ┆ aoAWARPR27 ┆ daoAWARPR ┆ Japan     │\n",
      "│       ┆            ┆            ┆          ┆   ┆ Kyoto      ┆ azYdlsA    ┆ 27azYdlsA ┆           │\n",
      "│       ┆            ┆            ┆          ┆   ┆ University ┆            ┆           ┆           │\n",
      "│       ┆            ┆            ┆          ┆   ┆ of…        ┆            ┆           ┆           │\n",
      "│ …     ┆ …          ┆ …          ┆ …        ┆ … ┆ …          ┆ …          ┆ …         ┆ …         │\n",
      "│ 10656 ┆ walan      ┆ walan      ┆ false    ┆ … ┆ Digital    ┆ ChIJXSModo ┆ ChIJXSMod ┆ Tokyo,    │\n",
      "│       ┆            ┆            ┆          ┆   ┆ Collectibl ┆ WLGGARILWi ┆ oWLGGARIL ┆ Japan     │\n",
      "│       ┆            ┆            ┆          ┆   ┆ es         ┆ Cfeu2M0    ┆ WiCfeu2M0 ┆           │\n",
      "│       ┆            ┆            ┆          ┆   ┆ ENJOYOOR   ┆            ┆           ┆           │\n",
      "│       ┆            ┆            ┆          ┆   ┆ L0…        ┆            ┆           ┆           │\n",
      "│ 10143 ┆ ic         ┆ Eric       ┆ false    ┆ … ┆ Scientist  ┆ ChIJXSModo ┆ ChIJXSMod ┆ Tokyo,    │\n",
      "│       ┆            ┆ Platon     ┆          ┆   ┆ and        ┆ WLGGARILWi ┆ oWLGGARIL ┆ Japan     │\n",
      "│       ┆            ┆            ┆          ┆   ┆ engineer   ┆ Cfeu2M0    ┆ WiCfeu2M0 ┆           │\n",
      "│       ┆            ┆            ┆          ┆   ┆ intereste… ┆            ┆           ┆           │\n",
      "│ 10036 ┆ arao       ┆ Arao       ┆ false    ┆ … ┆ I am Arao  ┆ ChIJXSModo ┆ ChIJXSMod ┆ Tokyo,    │\n",
      "│       ┆            ┆            ┆          ┆   ┆            ┆ WLGGARILWi ┆ oWLGGARIL ┆ Japan     │\n",
      "│       ┆            ┆            ┆          ┆   ┆            ┆ Cfeu2M0    ┆ WiCfeu2M0 ┆           │\n",
      "│ 7484  ┆ pierceswor ┆ PiercedCAT ┆ false    ┆ … ┆ ∈(・ω・)∋  ┆ ChIJr-eHXC ┆ ChIJr-eHX ┆ Saitama,  │\n",
      "│       ┆ d          ┆            ┆          ┆   ┆ /          ┆ DBGGARXvai ┆ CDBGGARXv ┆ Japan     │\n",
      "│       ┆            ┆            ┆          ┆   ┆ PiercedCAT ┆ v8DydIw    ┆ aiv8DydIw ┆           │\n",
      "│       ┆            ┆            ┆          ┆   ┆ is a Hole  ┆            ┆           ┆           │\n",
      "│       ┆            ┆            ┆          ┆   ┆ Y…         ┆            ┆           ┆           │\n",
      "└───────┴────────────┴────────────┴──────────┴───┴────────────┴────────────┴───────────┴───────────┘\n"
     ]
    }
   ],
   "source": [
    "import duckdb\n",
    "df = duckdb.query('''\n",
    "SELECT *\n",
    "FROM 'users.parquet' u\n",
    "JOIN 'locations.parquet' l ON u.location_place_id = l.place_id\n",
    "WHERE l.description LIKE '%Japan%'\n",
    "''').pl()\n",
    "\n",
    "print(df)"
   ]
  }
 ],
 "metadata": {
  "kernelspec": {
   "display_name": "venv",
   "language": "python",
   "name": "python3"
  },
  "language_info": {
   "codemirror_mode": {
    "name": "ipython",
    "version": 3
   },
   "file_extension": ".py",
   "mimetype": "text/x-python",
   "name": "python",
   "nbconvert_exporter": "python",
   "pygments_lexer": "ipython3",
   "version": "3.11.2"
  },
  "orig_nbformat": 4
 },
 "nbformat": 4,
 "nbformat_minor": 2
}
