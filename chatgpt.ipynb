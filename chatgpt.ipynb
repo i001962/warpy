{
 "cells": [
  {
   "cell_type": "code",
   "execution_count": 12,
   "metadata": {},
   "outputs": [
    {
     "name": "stdout",
     "output_type": "stream",
     "text": [
      "Table: locations\n",
      " - place_id (VARCHAR(255))\n",
      " - description (VARCHAR(255))\n",
      "Table: users\n",
      " - fid (BIGINT)\n",
      " - username (VARCHAR(50))\n",
      " - display_name (VARCHAR(255))\n",
      " - verified (BOOLEAN)\n",
      " - pfp_url (VARCHAR(255))\n",
      " - follower_count (BIGINT)\n",
      " - following_count (BIGINT)\n",
      " - bio_text (VARCHAR(255))\n",
      " - location_place_id (VARCHAR(255))\n",
      " - farcaster_address (VARCHAR(63))\n",
      " - external_address (VARCHAR(63))\n",
      " - registered_at (BIGINT)\n",
      "Table: external_addresses\n",
      " - address (VARCHAR(63))\n",
      " - ens (VARCHAR(255))\n",
      " - url (VARCHAR(255))\n",
      " - github (VARCHAR(255))\n",
      " - twitter (VARCHAR(63))\n",
      " - telegram (VARCHAR(63))\n",
      " - email (VARCHAR(255))\n",
      " - discord (VARCHAR(63))\n"
     ]
    }
   ],
   "source": [
    "# open the metadata file for reading\n",
    "with open('metadata.txt', 'r') as f:\n",
    "    lines = f.readlines()\n",
    "\n",
    "# loop through each line and print the table structure\n",
    "for i, line in enumerate(lines):\n",
    "    # check if the line starts with \"Table:\"\n",
    "    if line.startswith('Table:'):\n",
    "        table_name = line.split(' ')[1].strip()\n",
    "        print(f\"Table: {table_name}\")\n",
    "\n",
    "        # loop through each subsequent line until the next \"Table:\" line\n",
    "        j = i + 1\n",
    "        while j < len(lines) and not lines[j].startswith('Table:'):\n",
    "            col_info = lines[j].strip()\n",
    "            print(f\" {col_info}\")\n",
    "            j += 1"
   ]
  },
  {
   "cell_type": "code",
   "execution_count": 13,
   "metadata": {},
   "outputs": [
    {
     "name": "stdout",
     "output_type": "stream",
     "text": [
      "{'locations': ['- place_id (VARCHAR(255))', '- description (VARCHAR(255))'], 'users': ['- fid (BIGINT)', '- username (VARCHAR(50))', '- display_name (VARCHAR(255))', '- verified (BOOLEAN)', '- pfp_url (VARCHAR(255))', '- follower_count (BIGINT)', '- following_count (BIGINT)', '- bio_text (VARCHAR(255))', '- location_place_id (VARCHAR(255))', '- farcaster_address (VARCHAR(63))', '- external_address (VARCHAR(63))', '- registered_at (BIGINT)'], 'external_addresses': ['- address (VARCHAR(63))', '- ens (VARCHAR(255))', '- url (VARCHAR(255))', '- github (VARCHAR(255))', '- twitter (VARCHAR(63))', '- telegram (VARCHAR(63))', '- email (VARCHAR(255))', '- discord (VARCHAR(63))']}\n"
     ]
    }
   ],
   "source": [
    "# create an empty dictionary to store the table structure information\n",
    "table_info = {}\n",
    "\n",
    "# open the metadata file for reading\n",
    "with open('metadata.txt', 'r') as f:\n",
    "    lines = f.readlines()\n",
    "\n",
    "# loop through each line and add the table structure to the dictionary\n",
    "for i, line in enumerate(lines):\n",
    "    # check if the line starts with \"Table:\"\n",
    "    if line.startswith('Table:'):\n",
    "        table_name = line.split(' ')[1].strip()\n",
    "        table_cols = []\n",
    "\n",
    "        # loop through each subsequent line until the next \"Table:\" line\n",
    "        j = i + 1\n",
    "        while j < len(lines) and not lines[j].startswith('Table:'):\n",
    "            col_info = lines[j].strip()\n",
    "            table_cols.append(col_info)\n",
    "            j += 1\n",
    "\n",
    "        # add the table name and column information to the dictionary\n",
    "        table_info[table_name] = table_cols\n",
    "\n",
    "# print the contents of the table_info dictionary\n",
    "print(table_info)"
   ]
  },
  {
   "cell_type": "code",
   "execution_count": 14,
   "metadata": {},
   "outputs": [
    {
     "ename": "SyntaxError",
     "evalue": "incomplete input (1411613239.py, line 3)",
     "output_type": "error",
     "traceback": [
      "\u001b[0;36m  Cell \u001b[0;32mIn[14], line 3\u001b[0;36m\u001b[0m\n\u001b[0;31m    initial_prompt = \"\"\"\u001b[0m\n\u001b[0m                     ^\u001b[0m\n\u001b[0;31mSyntaxError\u001b[0m\u001b[0;31m:\u001b[0m incomplete input\n"
     ]
    }
   ],
   "source": [
    "system_prompt = \"You are a SQL writer. If the user asks about anything than SQL, deny. You are a very good SQL writer. Nothing else.\"\n",
    "\n",
    "initial_prompt = \"\"\"\n",
    "{'locations': ['- place_id (VARCHAR(255))', '- description (VARCHAR(255))'], 'users': ['- fid (BIGINT)', '- username (VARCHAR(50))', '- display_name (VARCHAR(255))', '- verified (BOOLEAN)', '- pfp_url (VARCHAR(255))', '- follower_count (BIGINT)', '- following_count (BIGINT)', '- bio_text (VARCHAR(255))', '- location_place_id (VARCHAR(255))', '- farcaster_address (VARCHAR(63))', '- external_address (VARCHAR(63))', '- registered_at (BIGINT)'], 'external_addresses': ['- address (VARCHAR(63))', '- ens (VARCHAR(255))', '- url (VARCHAR(255))', '- github (VARCHAR(255))', '- twitter (VARCHAR(63))', '- telegram (VARCHAR(63))', '- email (VARCHAR(255))', '- discord (VARCHAR(63))']}\n",
    "\n",
    "Here's the database schema you're working with. Your job is to turn user queries (in natural language) to SQL. Only return the SQL and nothing else. Don't explain, don't say \"here's your query.\" Just give the SQL. Say \"Yes\" if you understand.\n",
    "\"\"\"\n"
   ]
  },
  {
   "cell_type": "code",
   "execution_count": null,
   "metadata": {},
   "outputs": [],
   "source": []
  },
  {
   "cell_type": "code",
   "execution_count": null,
   "metadata": {},
   "outputs": [],
   "source": []
  }
 ],
 "metadata": {
  "kernelspec": {
   "display_name": "venv",
   "language": "python",
   "name": "python3"
  },
  "language_info": {
   "codemirror_mode": {
    "name": "ipython",
    "version": 3
   },
   "file_extension": ".py",
   "mimetype": "text/x-python",
   "name": "python",
   "nbconvert_exporter": "python",
   "pygments_lexer": "ipython3",
   "version": "3.11.2"
  },
  "orig_nbformat": 4
 },
 "nbformat": 4,
 "nbformat_minor": 2
}
