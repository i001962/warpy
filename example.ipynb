{
 "cells": [
  {
   "attachments": {},
   "cell_type": "markdown",
   "metadata": {},
   "source": [
    "# Warpy: open-source Farcaster datasets\n",
    "\n",
    "Welcome to Warpy! Download Farcaster datasets by running `python main.py download`. This notebook will walk you through the things you can do with it."
   ]
  },
  {
   "cell_type": "code",
   "execution_count": 16,
   "metadata": {},
   "outputs": [],
   "source": [
    "import sqlite3\n",
    "import polars as pl\n",
    "import pandas as pd\n",
    "\n",
    "\n",
    "def query_db(query: str, to_pandas: bool = False) -> pl.DataFrame:\n",
    "    with sqlite3.connect('datasets/datasets.db') as con:\n",
    "        cur = con.cursor()\n",
    "        cur.execute(query)\n",
    "        column_names = [description[0] for description in cur.description]\n",
    "        if to_pandas:\n",
    "            return pd.DataFrame(cur, columns=column_names)\n",
    "        return pl.DataFrame(cur, schema=column_names)\n"
   ]
  },
  {
   "cell_type": "code",
   "execution_count": 7,
   "metadata": {},
   "outputs": [
    {
     "name": "stdout",
     "output_type": "stream",
     "text": [
      "shape: (3, 12)\n",
      "┌───────┬──────────┬────────────┬───────────┬───┬────────────┬────────────┬────────────┬───────────┐\n",
      "│ fid   ┆ username ┆ display_na ┆ pfp_url   ┆ … ┆ farcaster_ ┆ external_a ┆ registered ┆ location_ │\n",
      "│ ---   ┆ ---      ┆ me         ┆ ---       ┆   ┆ address    ┆ ddress     ┆ _at        ┆ id        │\n",
      "│ i64   ┆ str      ┆ ---        ┆ str       ┆   ┆ ---        ┆ ---        ┆ ---        ┆ ---       │\n",
      "│       ┆          ┆ str        ┆           ┆   ┆ str        ┆ str        ┆ i64        ┆ str       │\n",
      "╞═══════╪══════════╪════════════╪═══════════╪═══╪════════════╪════════════╪════════════╪═══════════╡\n",
      "│ 11365 ┆ csnider  ┆ Chris      ┆ https://i ┆ … ┆ 0xb98907DB ┆ null       ┆ 1680045890 ┆ ChIJ5x5hw │\n",
      "│       ┆          ┆ Snider     ┆ .imgur.co ┆   ┆ c2a3b95A47 ┆            ┆ 418        ┆ aSZ7ocRsu │\n",
      "│       ┆          ┆            ┆ m/v6TVpJ4 ┆   ┆ dAccC0189e ┆            ┆            ┆ SRJlEoAHE │\n",
      "│       ┆          ┆            ┆ .jpg      ┆   ┆ 80…        ┆            ┆            ┆           │\n",
      "│ 10563 ┆ dayu     ┆ Dayu       ┆ https://i ┆ … ┆ 0x954a02C4 ┆ null       ┆ 1678359484 ┆           │\n",
      "│       ┆          ┆            ┆ .imgur.co ┆   ┆ 62e8F03FC2 ┆            ┆ 506        ┆           │\n",
      "│       ┆          ┆            ┆ m/nLH5jgK ┆   ┆ C03C64D4a4 ┆            ┆            ┆           │\n",
      "│       ┆          ┆            ┆ .jpg      ┆   ┆ a6…        ┆            ┆            ┆           │\n",
      "│ 4805  ┆ gianna   ┆ gianna     ┆ https://i ┆ … ┆ 0x979D6297 ┆ 0x1c4420de ┆ 1667511116 ┆           │\n",
      "│       ┆          ┆            ┆ .seadn.io ┆   ┆ 2E96fDb8e4 ┆ a13bb5e6c2 ┆ 550        ┆           │\n",
      "│       ┆          ┆            ┆ /gae/9Qg0 ┆   ┆ 6174f9E1dE ┆ dd3c14fd9e ┆            ┆           │\n",
      "│       ┆          ┆            ┆ qlmsr…    ┆   ┆ 9c…        ┆ 50…        ┆            ┆           │\n",
      "└───────┴──────────┴────────────┴───────────┴───┴────────────┴────────────┴────────────┴───────────┘\n"
     ]
    }
   ],
   "source": [
    "# you can use duckdb to directly query the files with SQL\n",
    "query = \"select * from users order by random() limit 3\"\n",
    "\n",
    "print(query_db(query))"
   ]
  },
  {
   "cell_type": "code",
   "execution_count": 8,
   "metadata": {},
   "outputs": [
    {
     "name": "stdout",
     "output_type": "stream",
     "text": [
      "Sending query to ChatGPT...\n",
      "\n",
      "SQL from ChatGPT: \n",
      "\n",
      "SELECT * FROM users ORDER BY RANDOM() LIMIT 3;\n",
      "\n",
      "shape: (3, 12)\n",
      "┌───────┬────────┬────────────┬───────┬───┬────────────┬────────────┬────────────┬───────────┐\n",
      "│ fid   ┆ userna ┆ display_na ┆ pfp_u ┆ … ┆ farcaster_ ┆ external_a ┆ registered ┆ location_ │\n",
      "│ ---   ┆ me     ┆ me         ┆ rl    ┆   ┆ address    ┆ ddress     ┆ _at        ┆ id        │\n",
      "│ i64   ┆ ---    ┆ ---        ┆ ---   ┆   ┆ ---        ┆ ---        ┆ ---        ┆ ---       │\n",
      "│       ┆ str    ┆ str        ┆ str   ┆   ┆ str        ┆ str        ┆ i64        ┆ str       │\n",
      "╞═══════╪════════╪════════════╪═══════╪═══╪════════════╪════════════╪════════════╪═══════════╡\n",
      "│ 8551  ┆ medved ┆ medved     ┆ https ┆ … ┆ 0x9D0F31Cd ┆ 0x19847a32 ┆ 1675181463 ┆           │\n",
      "│       ┆        ┆            ┆ ://i. ┆   ┆ E71D447654 ┆ b0eb348b00 ┆ 350        ┆           │\n",
      "│       ┆        ┆            ┆ imgur ┆   ┆ ebdBc7Cffa ┆ 6c79c1fb2d ┆            ┆           │\n",
      "│       ┆        ┆            ┆ .com/ ┆   ┆ 47…        ┆ 3a…        ┆            ┆           │\n",
      "│       ┆        ┆            ┆ PSPUW ┆   ┆            ┆            ┆            ┆           │\n",
      "│       ┆        ┆            ┆ HK.jp ┆   ┆            ┆            ┆            ┆           │\n",
      "│       ┆        ┆            ┆ g     ┆   ┆            ┆            ┆            ┆           │\n",
      "│ 10860 ┆ mairbe ┆ Mairbek    ┆ https ┆ … ┆ 0x857bFeCD ┆ null       ┆ 1678916042 ┆           │\n",
      "│       ┆ k      ┆            ┆ ://i. ┆   ┆ 54E1fAb5Ee ┆            ┆ 821        ┆           │\n",
      "│       ┆        ┆            ┆ imgur ┆   ┆ eF3A302e7F ┆            ┆            ┆           │\n",
      "│       ┆        ┆            ┆ .com/ ┆   ┆ 61…        ┆            ┆            ┆           │\n",
      "│       ┆        ┆            ┆ xwPgC ┆   ┆            ┆            ┆            ┆           │\n",
      "│       ┆        ┆            ┆ zR.jp ┆   ┆            ┆            ┆            ┆           │\n",
      "│       ┆        ┆            ┆ g     ┆   ┆            ┆            ┆            ┆           │\n",
      "│ 7546  ┆ soulni ┆ Aadhithyan ┆ https ┆ … ┆ 0x3701Eeeb ┆ 0x9503c1a5 ┆ 1671818416 ┆           │\n",
      "│       ┆ nja    ┆            ┆ ://op ┆   ┆ fF71D803A9 ┆ 440f92190f ┆ 233        ┆           │\n",
      "│       ┆        ┆            ┆ ensea ┆   ┆ 524DFefDd5 ┆ e9035b01bf ┆            ┆           │\n",
      "│       ┆        ┆            ┆ userd ┆   ┆ 6e…        ┆ 8d…        ┆            ┆           │\n",
      "│       ┆        ┆            ┆ ata.c ┆   ┆            ┆            ┆            ┆           │\n",
      "│       ┆        ┆            ┆ om/fi ┆   ┆            ┆            ┆            ┆           │\n",
      "│       ┆        ┆            ┆ le…   ┆   ┆            ┆            ┆            ┆           │\n",
      "└───────┴────────┴────────────┴───────┴───┴────────────┴────────────┴────────────┴───────────┘\n"
     ]
    }
   ],
   "source": [
    "# You can also use ChatGPT to write SQL queries for you\n",
    "# ex: `python main.py query \"get three random users\"`\n",
    "!python main.py query \"get three random users\""
   ]
  },
  {
   "cell_type": "code",
   "execution_count": 9,
   "metadata": {},
   "outputs": [
    {
     "name": "stdout",
     "output_type": "stream",
     "text": [
      "shape: (3, 12)\n",
      "┌───────┬───────────┬────────────┬──────────┬───┬────────────┬────────────┬────────────┬───────────┐\n",
      "│ fid   ┆ username  ┆ display_na ┆ pfp_url  ┆ … ┆ farcaster_ ┆ external_a ┆ registered ┆ location_ │\n",
      "│ ---   ┆ ---       ┆ me         ┆ ---      ┆   ┆ address    ┆ ddress     ┆ _at        ┆ id        │\n",
      "│ i64   ┆ str       ┆ ---        ┆ str      ┆   ┆ ---        ┆ ---        ┆ ---        ┆ ---       │\n",
      "│       ┆           ┆ str        ┆          ┆   ┆ str        ┆ str        ┆ i64        ┆ str       │\n",
      "╞═══════╪═══════════╪════════════╪══════════╪═══╪════════════╪════════════╪════════════╪═══════════╡\n",
      "│ 7484  ┆ pierceswo ┆ PiercedCAT ┆ https:// ┆ … ┆ 0x0738C27A ┆ 0xdafa9e3d ┆ 1671567770 ┆ ChIJr-eHX │\n",
      "│       ┆ rd        ┆            ┆ i.imgur. ┆   ┆ D059298552 ┆ ae493f0b9d ┆ 334        ┆ CDBGGARXv │\n",
      "│       ┆           ┆            ┆ com/QpOb ┆   ┆ 63724c8a33 ┆ 6872eff4fd ┆            ┆ aiv8DydIw │\n",
      "│       ┆           ┆            ┆ dH6.jpg  ┆   ┆ b6…        ┆ a0…        ┆            ┆           │\n",
      "│ 10036 ┆ arao      ┆ Arao       ┆ https:// ┆ … ┆ 0x53FF18F6 ┆ 0x0d6d77ed ┆ 1677684834 ┆ ChIJXSMod │\n",
      "│       ┆           ┆            ┆ i.imgur. ┆   ┆ 59984EE4A4 ┆ 9a0335152c ┆ 765        ┆ oWLGGARIL │\n",
      "│       ┆           ┆            ┆ com/cC0P ┆   ┆ 05b7e597F5 ┆ 2b8e637b84 ┆            ┆ WiCfeu2M0 │\n",
      "│       ┆           ┆            ┆ 4cG.jpg  ┆   ┆ Dc…        ┆ c7…        ┆            ┆           │\n",
      "│ 10143 ┆ ic        ┆ Eric       ┆ https:// ┆ … ┆ 0xFdab4DD5 ┆ 0xb29fe76f ┆ 1677805646 ┆ ChIJXSMod │\n",
      "│       ┆           ┆ Platon     ┆ i.imgur. ┆   ┆ 7E3797bfA7 ┆ 64dc51aee3 ┆ 025        ┆ oWLGGARIL │\n",
      "│       ┆           ┆            ┆ com/iRmC ┆   ┆ f0D6c7456e ┆ d40a2a05a8 ┆            ┆ WiCfeu2M0 │\n",
      "│       ┆           ┆            ┆ r70.jpg  ┆   ┆ 61…        ┆ dd…        ┆            ┆           │\n",
      "└───────┴───────────┴────────────┴──────────┴───┴────────────┴────────────┴────────────┴───────────┘\n"
     ]
    }
   ],
   "source": [
    "# here's a fancier query: get all farcasters in japan\n",
    "query = \"SELECT * FROM users WHERE location_id IN (SELECT id FROM locations WHERE description LIKE '%Japan%') LIMIT 3;\"\n",
    "\n",
    "print(query_db(query))"
   ]
  },
  {
   "cell_type": "code",
   "execution_count": 28,
   "metadata": {},
   "outputs": [
    {
     "name": "stdout",
     "output_type": "stream",
     "text": [
      "shape: (60, 6)\n",
      "┌─────────────────┬─────────────────┬────────────────┬───────────────┬────────────┬────────────────┐\n",
      "│ hash            ┆ thread_hash     ┆ text           ┆ timestamp     ┆ author_fid ┆ parent_hash    │\n",
      "│ ---             ┆ ---             ┆ ---            ┆ ---           ┆ ---        ┆ ---            │\n",
      "│ str             ┆ str             ┆ str            ┆ i64           ┆ i64        ┆ str            │\n",
      "╞═════════════════╪═════════════════╪════════════════╪═══════════════╪════════════╪════════════════╡\n",
      "│ 0xd913c709681ed ┆ 0xa75522564a761 ┆ @v you should  ┆ 1642197646067 ┆ 3          ┆ 0x82939b1b7c8e │\n",
      "│ 094c979ee2c09ec ┆ 3a5b89e82c7f2fb ┆ get a coffee   ┆               ┆            ┆ eea68cd1a984a3 │\n",
      "│ 47…             ┆ 3a…             ┆ mug o…         ┆               ┆            ┆ 351f…          │\n",
      "│ 0xf75a80ff9b881 ┆ 0xceae07d6f3908 ┆ Erewhon!       ┆ 1647543862106 ┆ 3          ┆ 0xceae07d6f390 │\n",
      "│ e43cee1aac105dd ┆ 2505038b1463b93 ┆                ┆               ┆            ┆ 82505038b1463b │\n",
      "│ 79…             ┆ e8…             ┆                ┆               ┆            ┆ 93e8…          │\n",
      "│ 0x002adecaac885 ┆ 0xc2b411ff28c5b ┆ reminds me of  ┆ 1651441177809 ┆ 474        ┆ 0xeeac0efbae31 │\n",
      "│ b3a32e96ba480e3 ┆ d1fbe4072ba0e57 ┆ another        ┆               ┆            ┆ 2065b38124109f │\n",
      "│ ce…             ┆ 79…             ┆ classic mo…    ┆               ┆            ┆ 3d27…          │\n",
      "│ 0x24945c8c7bf38 ┆ 0xc2b411ff28c5b ┆ Was surreal    ┆ 1651440251216 ┆ 2          ┆ 0xc2b411ff28c5 │\n",
      "│ 72259c335975206 ┆ d1fbe4072ba0e57 ┆ seeing someone ┆               ┆            ┆ bd1fbe4072ba0e │\n",
      "│ f8…             ┆ 79…             ┆ use F…         ┆               ┆            ┆ 5779…          │\n",
      "│ …               ┆ …               ┆ …              ┆ …             ┆ …          ┆ …              │\n",
      "│ 0xa0b3498acb4da ┆ 0xf9c6e325dc393 ┆ I heard they   ┆ 1677805506000 ┆ 3          ┆ 0xf9c6e325dc39 │\n",
      "│ 42a426b80292368 ┆ 3b5ce89f4d5f6ea ┆ didn't have    ┆               ┆            ┆ 33b5ce89f4d5f6 │\n",
      "│ 9f…             ┆ 40…             ┆ Gjelina…       ┆               ┆            ┆ ea40…          │\n",
      "│ 0xb8d64737787f6 ┆ 0x67e32735f6afb ┆ it was a       ┆ 1679081187000 ┆ 2          ┆ 0x67e32735f6af │\n",
      "│ bea41c2e363c5a0 ┆ 41e60b8dddeb40a ┆ crisis, even   ┆               ┆            ┆ b41e60b8dddeb4 │\n",
      "│ 86…             ┆ 10…             ┆ erewhon is…    ┆               ┆            ┆ 0a10…          │\n",
      "│ 0xc7b81ea2eb36e ┆ 0xd2bc0234ea840 ┆ best -         ┆ 1678302129000 ┆ 3          ┆ 0xfc98a5e70a32 │\n",
      "│ c07f515274d3ccc ┆ 4a1ed8697aaba57 ┆ walkability,   ┆               ┆            ┆ 622109e8fd6329 │\n",
      "│ fe…             ┆ 2e…             ┆ weather, gje…  ┆               ┆            ┆ 21f1…          │\n",
      "│ 0x7aafd77fac9d9 ┆ 0x2912d21881be0 ┆ erewhon        ┆ 1679420703000 ┆ 239        ┆ 0x2912d21881be │\n",
      "│ f9d7307d7d25d74 ┆ 3de504a38495c12 ┆ immunity bone  ┆               ┆            ┆ 03de504a38495c │\n",
      "│ 04…             ┆ d3…             ┆ broth          ┆               ┆            ┆ 12d3…          │\n",
      "└─────────────────┴─────────────────┴────────────────┴───────────────┴────────────┴────────────────┘\n",
      "shape: (4, 12)\n",
      "┌─────┬──────────┬────────────┬─────────────┬───┬────────────┬────────────┬────────────┬───────────┐\n",
      "│ fid ┆ username ┆ display_na ┆ pfp_url     ┆ … ┆ farcaster_ ┆ external_a ┆ registered ┆ location_ │\n",
      "│ --- ┆ ---      ┆ me         ┆ ---         ┆   ┆ address    ┆ ddress     ┆ _at        ┆ id        │\n",
      "│ i64 ┆ str      ┆ ---        ┆ str         ┆   ┆ ---        ┆ ---        ┆ ---        ┆ ---       │\n",
      "│     ┆          ┆ str        ┆             ┆   ┆ str        ┆ str        ┆ i64        ┆ str       │\n",
      "╞═════╪══════════╪════════════╪═════════════╪═══╪════════════╪════════════╪════════════╪═══════════╡\n",
      "│ 2   ┆ v        ┆ Varun      ┆ https://i.s ┆ … ┆ 0x4114E33e ┆ 0x0fd5c2cf ┆ 1620676765 ┆ ChIJIQBpA │\n",
      "│     ┆          ┆ Srinivasan ┆ eadn.io/gae ┆   ┆ b831858649 ┆ 64fe2d02f3 ┆ 000        ┆ G2ahYAR_6 │\n",
      "│     ┆          ┆            ┆ /sYAr036bd… ┆   ┆ ea3702E1C9 ┆ 09f616fa36 ┆            ┆ 128GcTUEo │\n",
      "│     ┆          ┆            ┆             ┆   ┆ a2…        ┆ 23…        ┆            ┆           │\n",
      "│ 3   ┆ dwr      ┆ Dan Romero ┆ https://res ┆ … ┆ 0x74232BF6 ┆ 0xd7029bde ┆ 1620676480 ┆ ChIJE9on3 │\n",
      "│     ┆          ┆            ┆ .cloudinary ┆   ┆ 1e99465559 ┆ a1c1749389 ┆ 000        ┆ F3HwoAR9A │\n",
      "│     ┆          ┆            ┆ .com/merkl… ┆   ┆ 2747E20bDF ┆ 3aafe29aad ┆            ┆ hGJW_fL-I │\n",
      "│     ┆          ┆            ┆             ┆   ┆ 6f…        ┆ 69…        ┆            ┆           │\n",
      "│ 239 ┆ ted      ┆ ted (not   ┆ https://ope ┆ … ┆ 0xc6792541 ┆ 0x0aa34eb6 ┆ 1636739051 ┆ ChIJD7fiB │\n",
      "│     ┆          ┆ lasso) 🍑  ┆ nseauserdat ┆   ┆ 8DC8026572 ┆ 15ab330b64 ┆ 000        ┆ h9u5kcRYJ │\n",
      "│     ┆          ┆            ┆ a.com/file… ┆   ┆ 0244594c63 ┆ 060ff9fa99 ┆            ┆ SMaMOCCwQ │\n",
      "│     ┆          ┆            ┆             ┆   ┆ 2b…        ┆ 4e…        ┆            ┆           │\n",
      "│ 474 ┆ pdr      ┆ Peter Rood ┆ https://i.s ┆ … ┆ 0xd09cf607 ┆ 0x10f84c01 ┆ 1646329514 ┆ ChIJ4U-l7 │\n",
      "│     ┆          ┆            ┆ eadn.io/gae ┆   ┆ 675eaE5950 ┆ c184e24e24 ┆ 000        ┆ omFmYARjp │\n",
      "│     ┆          ┆            ┆ /F-g4Y0Ola… ┆   ┆ 17309F46F0 ┆ b3f4bbaabb ┆            ┆ Ej-0YvG90 │\n",
      "│     ┆          ┆            ┆             ┆   ┆ 83…        ┆ 71…        ┆            ┆           │\n",
      "└─────┴──────────┴────────────┴─────────────┴───┴────────────┴────────────┴────────────┴───────────┘\n"
     ]
    }
   ],
   "source": [
    "# you can also use pandas or polars to process things\n",
    "# ex: get all users where they have at least 5 casts that contain \"gjelina\" or \"erewhon\"\n",
    "query = \"SELECT * FROM casts WHERE text LIKE '%gjelina%' OR text LIKE '%erewhon%'\"\n",
    "cast_df = query_db(query, to_pandas=True)\n",
    "\n",
    "# get all users where they have at least 5 casts that contain \"gjelina\" or \"erewhon\"\n",
    "cast_df = cast_df.groupby('author_fid').filter(lambda x: len(x) >= 5)\n",
    "print(pl.DataFrame._from_pandas(cast_df))\n",
    "\n",
    "# get user info \n",
    "fids = cast_df['author_fid'].unique()\n",
    "query = f\"SELECT * FROM users WHERE fid IN {tuple(fids)}\"\n",
    "users_df = query_db(query, to_pandas=True)\n",
    "print(pl.DataFrame._from_pandas(users_df))\n"
   ]
  },
  {
   "cell_type": "code",
   "execution_count": 17,
   "metadata": {},
   "outputs": [
    {
     "data": {
      "image/png": "[encoded data removed]",
      "text/plain": [
       "<Figure size 640x480 with 1 Axes>"
      ]
     },
     "metadata": {},
     "output_type": "display_data"
    }
   ],
   "source": [
    "# you can also use seaborn/matplotlib to visualize things\n",
    "# ex: plot top 10 farcasters' most frequent locations\n",
    "import seaborn as sns\n",
    "import matplotlib.pyplot as plt\n",
    "\n",
    "# get top 10 farcasters' most frequent locations\n",
    "query = \"\"\"\n",
    "SELECT l.description, COUNT(*) AS count\n",
    "FROM users u\n",
    "JOIN locations l ON u.location_id = l.id\n",
    "WHERE u.farcaster_address IS NOT NULL\n",
    "GROUP BY l.description\n",
    "ORDER BY count DESC\n",
    "LIMIT 10;\n",
    "\"\"\"\n",
    "\n",
    "df = query_db(query, to_pandas=True)\n",
    "\n",
    "sns.barplot(x='count', y='description', data=df, palette=\"deep\")\n",
    "plt.show()\n",
    "\n"
   ]
  },
  {
   "attachments": {},
   "cell_type": "markdown",
   "metadata": {},
   "source": [
    "I hope you enjoy using Warpy!\n",
    "\n",
    "Complaints, comments, feedback to go @pixel on Farcaster :)\n"
   ]
  }
 ],
 "metadata": {
  "kernelspec": {
   "display_name": "venv",
   "language": "python",
   "name": "python3"
  },
  "language_info": {
   "codemirror_mode": {
    "name": "ipython",
    "version": 3
   },
   "file_extension": ".py",
   "mimetype": "text/x-python",
   "name": "python",
   "nbconvert_exporter": "python",
   "pygments_lexer": "ipython3",
   "version": "3.11.2"
  },
  "orig_nbformat": 4
 },
 "nbformat": 4,
 "nbformat_minor": 2
}
