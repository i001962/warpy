{
 "cells": [
  {
   "cell_type": "code",
   "execution_count": 3,
   "metadata": {},
   "outputs": [],
   "source": [
    "# connect to test.db sqlite, create session, then run \"get all users\" with session.Query\n",
    "from sqlalchemy import create_engine, func\n",
    "from sqlalchemy.orm import sessionmaker\n",
    "from models import Base, Cast, User, Reaction, Location, parent_association\n",
    "import pandas as pd\n",
    "\n",
    "\n",
    "engine = create_engine('sqlite:///test.db')\n",
    "Session = sessionmaker(bind=engine)\n",
    "session = Session()\n"
   ]
  },
  {
   "cell_type": "code",
   "execution_count": 7,
   "metadata": {},
   "outputs": [
    {
     "data": {
      "text/plain": [
       "'\\nHere are all the available models:\\n'"
      ]
     },
     "execution_count": 7,
     "metadata": {},
     "output_type": "execute_result"
    }
   ],
   "source": [
    "\"\"\"\n",
    "Here are all the available models:\n",
    "parent_association = Table('parent_association', Base.metadata,\n",
    "                           Column('parent_hash', String,\n",
    "                                  ForeignKey('casts.hash')),\n",
    "                           Column('cast_hash', String,\n",
    "                                  ForeignKey('casts.hash'))\n",
    "                           )\n",
    "\n",
    "\n",
    "# figure out ancestor hashes later\n",
    "class Cast(Base):\n",
    "    __tablename__ = 'casts'\n",
    "    hash = Column(String, primary_key=True)\n",
    "    thread_hash = Column(String, ForeignKey(\n",
    "        'casts.hash'))\n",
    "    parent_hash = Column(String, ForeignKey(\n",
    "        'casts.hash'), nullable=True)\n",
    "    text = Column(String)\n",
    "    timestamp = Column(BigInteger)\n",
    "    author_fid = Column(BigInteger, ForeignKey(\n",
    "        'users.fid'))\n",
    "    author = relationship('User', back_populates='casts')\n",
    "    reactions = relationship('Reaction', back_populates='target')\n",
    "    children_hashes = relationship(\"Cast\", secondary=parent_association,\n",
    "                                   primaryjoin=(\n",
    "                                       hash == parent_association.c.parent_hash),\n",
    "                                   secondaryjoin=(\n",
    "                                       hash == parent_association.c.cast_hash),\n",
    "                                   backref=\"parent_casts\")\n",
    "\n",
    "\n",
    "class Reaction(Base):\n",
    "    __tablename__ = 'reactions'\n",
    "    hash = Column(String, primary_key=True)\n",
    "    reaction_type = Column(String)  # like & recast\n",
    "    timestamp = Column(BigInteger)\n",
    "    target_hash = Column(String, ForeignKey('casts.hash'))\n",
    "    author_fid = Column(BigInteger, ForeignKey('users.fid'))\n",
    "    target = relationship('Cast', back_populates='reactions')\n",
    "\n",
    "\n",
    "class Location(Base):\n",
    "    __tablename__ = 'locations'\n",
    "    place_id = Column(String, primary_key=True)\n",
    "    description = Column(String)\n",
    "    users = relationship('User', backref='location')\n",
    "\n",
    "\n",
    "class User(Base):\n",
    "    __tablename__ = 'users'\n",
    "    fid = Column(BigInteger, primary_key=True)\n",
    "    username = Column(String)\n",
    "    display_name = Column(String)\n",
    "    verified = Column(Boolean, default=False)\n",
    "    pfp_url = Column(String, nullable=True)\n",
    "    follower_count = Column(BigInteger)\n",
    "    following_count = Column(BigInteger)\n",
    "    bio_text = Column(String, nullable=True)\n",
    "    location_place_id = Column(String, ForeignKey(\n",
    "        'locations.place_id'), nullable=True)\n",
    "    casts = relationship('Cast', back_populates='author')\n",
    "\n",
    "\"\"\""
   ]
  },
  {
   "cell_type": "code",
   "execution_count": 14,
   "metadata": {},
   "outputs": [
    {
     "name": "stdout",
     "output_type": "stream",
     "text": [
      "            username                location\n",
      "0           jplevyak  San Francisco, CA, USA\n",
      "1           jerblack       New York, NY, USA\n",
      "2     mm-fc-00000033  San Francisco, CA, USA\n",
      "3             hirsch        Houston, TX, USA\n",
      "4              scorz         Denver, CO, USA\n",
      "5         chadfowler         Denver, CO, USA\n",
      "6            geoveza         Denver, NY, USA\n",
      "7              naman  San Francisco, CA, USA\n",
      "8                jey         Austin, TX, USA\n",
      "9                 by    Los Angeles, CA, USA\n",
      "10           snuglas      San Diego, CA, USA\n",
      "11             bayka        Seattle, WA, USA\n",
      "12             vladn          Miami, FL, USA\n",
      "13     thelafffinman      San Diego, CA, USA\n",
      "14         ericnagel        Buffalo, NY, USA\n",
      "15          das-mchl       New York, NY, USA\n",
      "16          newtroll   Montana City, MT, USA\n",
      "17      constantinos        Bozeman, MT, USA\n",
      "18           hillale       Rockford, IL, USA\n",
      "19       kelvintiger         Denver, CO, USA\n",
      "20              taek         Denver, CO, USA\n",
      "21        meyerman33       New York, NY, USA\n",
      "22   fiercenattobaby    Los Angeles, CA, USA\n",
      "23          m00npapi         Denver, CO, USA\n",
      "24             bloom       New York, NY, USA\n",
      "25            duncan     Sunderland, VT, USA\n",
      "26       vpabundance      San Diego, CA, USA\n",
      "27          patrickt    Los Angeles, CA, USA\n",
      "28      cryptomoogle         Denver, CO, USA\n",
      "29            wesley         Denver, CO, USA\n",
      "30          tjthorne       Portland, OR, USA\n",
      "31         bennyj504    New Orleans, LA, USA\n",
      "32      alexbrothman    Los Angeles, CA, USA\n",
      "33  ellelikethelettr    Los Angeles, CA, USA\n",
      "34        blackswhan      Cambridge, MA, USA\n",
      "35          mc-tatts        Chicago, IL, USA\n",
      "36              flex    Los Angeles, CA, USA\n",
      "37          katalina    Los Angeles, CA, USA\n",
      "38              mbar       New York, NY, USA\n",
      "39        darrenwang    Los Angeles, CA, USA\n",
      "40             gilly   Philadelphia, PA, USA\n",
      "41           ethrich    Los Angeles, CA, USA\n",
      "42               csu         Denver, CO, USA\n",
      "43         johnathan    Kansas City, MO, USA\n",
      "44      leewardbound           Reno, NV, USA\n",
      "45          priyanks         Austin, TX, USA\n",
      "46          lalatina         Denver, CO, USA\n",
      "47           hitenp1       Brooklyn, NY, USA\n",
      "48         0xahgigix         Denver, CO, USA\n",
      "49         melrserra         Denver, CO, USA\n",
      "50          bankisan         Denver, CO, USA\n",
      "51         stephania         Denver, CO, USA\n",
      "52           lindsey       Brooklyn, NY, USA\n",
      "53             jwolf    Miami Beach, FL, USA\n",
      "54          zizzamia         Denver, CO, USA\n",
      "55          alephwyr       San Jose, CA, USA\n",
      "56      codeofcrypto         Boston, MA, USA\n",
      "57     poymeetsworld         Denver, CO, USA\n",
      "58   thebrandalorian       New York, NY, USA\n",
      "59            nbragg         Denver, CO, USA\n"
     ]
    }
   ],
   "source": [
    "# get all users where they have location with description that contains \"USA\"\n",
    "# description_location is from the Location model\n",
    "# location_place_id is from the User model\n",
    "\n",
    "locations = session.query(Location).filter(\n",
    "    Location.description.contains(\"USA\")).all()\n",
    "\n",
    "# print users with locations\n",
    "users = session.query(User).filter(\n",
    "    User.location_place_id.in_([location.place_id for location in locations])).all()\n",
    "\n",
    "df = pd.DataFrame([user.__dict__ for user in users])\n",
    "# print(df)\n",
    "\n",
    "# make df with username, location column\n",
    "\n",
    "new_df = pd.DataFrame(columns=[\"username\", \"location\"])\n",
    "for user in users:\n",
    "    new_df = pd.concat([new_df, pd.DataFrame({\"username\": [user.username], \"location\": [user.location.description]})], ignore_index=True)\n",
    "\n",
    "print(new_df)"
   ]
  },
  {
   "cell_type": "code",
   "execution_count": 20,
   "metadata": {},
   "outputs": [
    {
     "name": "stdout",
     "output_type": "stream",
     "text": [
      "True\n",
      "1000 304 696\n"
     ]
    }
   ],
   "source": [
    "casts_with_no_parent = session.query(\n",
    "    Cast).filter(Cast.parent_hash == None).all()\n",
    "\n",
    "all_associations = session.query(parent_association).all()\n",
    "\n",
    "all_casts = session.query(Cast).all()\n",
    "\n",
    "print(len(all_casts) - len(casts_with_no_parent) == len(all_associations))\n",
    "print(len(all_casts), len(casts_with_no_parent), len(all_associations))\n"
   ]
  }
 ],
 "metadata": {
  "kernelspec": {
   "display_name": "venv",
   "language": "python",
   "name": "python3"
  },
  "language_info": {
   "codemirror_mode": {
    "name": "ipython",
    "version": 3
   },
   "file_extension": ".py",
   "mimetype": "text/x-python",
   "name": "python",
   "nbconvert_exporter": "python",
   "pygments_lexer": "ipython3",
   "version": "3.11.2"
  },
  "orig_nbformat": 4,
  "vscode": {
   "interpreter": {
    "hash": "517cd8b605ae8ac02850de69c54d02323980c3535b0e948d0e14670b67df70f7"
   }
  }
 },
 "nbformat": 4,
 "nbformat_minor": 2
}
