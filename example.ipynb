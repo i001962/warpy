{
 "cells": [
  {
   "cell_type": "code",
   "execution_count": null,
   "metadata": {},
   "outputs": [],
   "source": [
    "# connect to test.db sqlite, create session, then run \"get all users\" with session.Query\n",
    "from sqlalchemy import create_engine, text\n",
    "from sqlalchemy.orm import sessionmaker\n",
    "from models import Base, User, Location, ExternalAddress, Cast\n",
    "import pandas as pd\n",
    "import seaborn as sns\n",
    "import matplotlib.pyplot as plt\n",
    "import os\n",
    "\n",
    "engine = create_engine(os.getenv(\"PLANETSCALE_URL\"))\n",
    "# if you have the link you can do\n",
    "# engine = create_engine('mysql+pymysql://...')"
   ]
  },
  {
   "cell_type": "code",
   "execution_count": null,
   "metadata": {},
   "outputs": [],
   "source": [
    "# get all users with bio that contains \"coinbase\"\n",
    "\n",
    "with sessionmaker(bind=engine)() as session:\n",
    "    coinbase_users = session.query(User).filter(\n",
    "        User.bio_text.contains(\"coinbase\")).all()\n",
    "    \n",
    "    for user in coinbase_users:\n",
    "        print(user.username)"
   ]
  }
 ],
 "metadata": {
  "kernelspec": {
   "display_name": "venv",
   "language": "python",
   "name": "python3"
  },
  "language_info": {
   "codemirror_mode": {
    "name": "ipython",
    "version": 3
   },
   "file_extension": ".py",
   "mimetype": "text/x-python",
   "name": "python",
   "nbconvert_exporter": "python",
   "pygments_lexer": "ipython3",
   "version": "3.11.2"
  },
  "orig_nbformat": 4,
  "vscode": {
   "interpreter": {
    "hash": "c9351cc883c43858476c8e3ade9c3ab7e7b7004e520beea4450f17f56e727628"
   }
  }
 },
 "nbformat": 4,
 "nbformat_minor": 2
}
