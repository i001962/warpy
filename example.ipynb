{
 "cells": [
  {
   "attachments": {},
   "cell_type": "markdown",
   "metadata": {},
   "source": [
    "# Warpy: open-source Farcaster datasets\n",
    "\n",
    "By running `python download.py`, you can download the Farcaster datasets. This notebook will walk you through the things you can do with it.\n"
   ]
  },
  {
   "cell_type": "code",
   "execution_count": 2,
   "metadata": {},
   "outputs": [
    {
     "name": "stdout",
     "output_type": "stream",
     "text": [
      "Datasets folder exists, continuing...\n"
     ]
    }
   ],
   "source": [
    "import os\n",
    "import duckdb\n",
    "\n",
    "# if ./datasets exists (and the stuff inside exists, continue, else print error message)\n",
    "if not os.path.exists('./datasets'):\n",
    "    print('Datasets folder does not exist, please run `python download.py`')\n",
    "else:\n",
    "    print('Datasets folder exists, continuing...')"
   ]
  },
  {
   "cell_type": "code",
   "execution_count": 10,
   "metadata": {},
   "outputs": [
    {
     "name": "stdout",
     "output_type": "stream",
     "text": [
      "shape: (5, 5)\n",
      "┌───────┬──────────┬──────────────┬────────────────────────────────┬───────────────────────────────┐\n",
      "│ fid   ┆ username ┆ display_name ┆ pfp_url                        ┆ bio_text                      │\n",
      "│ ---   ┆ ---      ┆ ---          ┆ ---                            ┆ ---                           │\n",
      "│ i64   ┆ str      ┆ str          ┆ str                            ┆ str                           │\n",
      "╞═══════╪══════════╪══════════════╪════════════════════════════════╪═══════════════════════════════╡\n",
      "│ 2105  ┆ lacrosse ┆ Connor Emma  ┆ https://i.imgur.com/7wNtqNt.jp ┆ Engineer @coinbase |          │\n",
      "│       ┆          ┆              ┆ g                              ┆ Co-Founder …                  │\n",
      "│ 3668  ┆ vector19 ┆ Avi Ahuja    ┆ https://pbs.twimg.com/profile_ ┆ tokenization maxi - product @ │\n",
      "│       ┆          ┆              ┆ im…                            ┆ cr…                           │\n",
      "│ 8045  ┆ doug     ┆ Doug         ┆ https://i.imgur.com/zchWBCY.jp ┆ Noob                          │\n",
      "│       ┆          ┆              ┆ g                              ┆                               │\n",
      "│ 6675  ┆ cooley   ┆ Ned          ┆ https://i.imgur.com/jg4mIYh.jp ┆ Finance and technocurious     │\n",
      "│       ┆          ┆              ┆ g                              ┆                               │\n",
      "│ 11070 ┆ ethanill ┆ ethan 🪃     ┆ https://i.seadn.io/gae/Q8kFi5e ┆ ✳︎ music fan                   │\n",
      "│       ┆          ┆              ┆ P0…                            ┆ ✳︎ jpeg enjoyooor …            │\n",
      "└───────┴──────────┴──────────────┴────────────────────────────────┴───────────────────────────────┘\n"
     ]
    }
   ],
   "source": [
    "# you can use duckdb to directly query the files with SQL\n",
    "query = \"select * from read_parquet('./datasets/users.parquet') order by random() limit 5\"\n",
    "print(duckdb.query(query).pl())\n",
    "\n",
    "# Note: to use ChatGPT to write query for you, see query.py\n",
    "# ex: `python query.py \"get ten random users\"`"
   ]
  },
  {
   "cell_type": "code",
   "execution_count": 12,
   "metadata": {},
   "outputs": [
    {
     "name": "stdout",
     "output_type": "stream",
     "text": [
      "shape: (101, 14)\n",
      "┌───────┬───────────┬────────────┬───────────┬───┬────────────┬────────────┬───────────┬───────────┐\n",
      "│ fid   ┆ username  ┆ display_na ┆ pfp_url   ┆ … ┆ external_a ┆ registered ┆ id        ┆ descripti │\n",
      "│ ---   ┆ ---       ┆ me         ┆ ---       ┆   ┆ ddress     ┆ _at        ┆ ---       ┆ on        │\n",
      "│ i64   ┆ str       ┆ ---        ┆ str       ┆   ┆ ---        ┆ ---        ┆ str       ┆ ---       │\n",
      "│       ┆           ┆ str        ┆           ┆   ┆ str        ┆ i64        ┆           ┆ str       │\n",
      "╞═══════╪═══════════╪════════════╪═══════════╪═══╪════════════╪════════════╪═══════════╪═══════════╡\n",
      "│ 11165 ┆ liujitsu  ┆ roy        ┆ https://i ┆ … ┆ null       ┆ -1         ┆ ChIJOwg_0 ┆ New York, │\n",
      "│       ┆           ┆            ┆ .seadn.io ┆   ┆            ┆            ┆ 6VPwokRYv ┆ NY, USA   │\n",
      "│       ┆           ┆            ┆ /gcs/file ┆   ┆            ┆            ┆ 534QaPC8g ┆           │\n",
      "│       ┆           ┆            ┆ s/2a3…    ┆   ┆            ┆            ┆           ┆           │\n",
      "│ 11163 ┆ justsayul ┆ JoannaZeng ┆ https://i ┆ … ┆ null       ┆ -1         ┆ ChIJOwg_0 ┆ New York, │\n",
      "│       ┆ uvjo      ┆ .eth       ┆ .imgur.co ┆   ┆            ┆            ┆ 6VPwokRYv ┆ NY, USA   │\n",
      "│       ┆           ┆            ┆ m/EJxlV40 ┆   ┆            ┆            ┆ 534QaPC8g ┆           │\n",
      "│       ┆           ┆            ┆ .jpg      ┆   ┆            ┆            ┆           ┆           │\n",
      "│ 11160 ┆ dzb       ┆ Daniel     ┆ https://i ┆ … ┆ null       ┆ -1         ┆ ChIJOwg_0 ┆ New York, │\n",
      "│       ┆           ┆            ┆ .imgur.co ┆   ┆            ┆            ┆ 6VPwokRYv ┆ NY, USA   │\n",
      "│       ┆           ┆            ┆ m/NjHN5wN ┆   ┆            ┆            ┆ 534QaPC8g ┆           │\n",
      "│       ┆           ┆            ┆ .jpg      ┆   ┆            ┆            ┆           ┆           │\n",
      "│ 11119 ┆ nickasaur ┆ Nicholas   ┆ https://i ┆ … ┆ null       ┆ -1         ┆ ChIJOwg_0 ┆ New York, │\n",
      "│       ┆ us        ┆ Ruzicka    ┆ .imgur.co ┆   ┆            ┆            ┆ 6VPwokRYv ┆ NY, USA   │\n",
      "│       ┆           ┆            ┆ m/geTrijh ┆   ┆            ┆            ┆ 534QaPC8g ┆           │\n",
      "│       ┆           ┆            ┆ .jpg      ┆   ┆            ┆            ┆           ┆           │\n",
      "│ …     ┆ …         ┆ …          ┆ …         ┆ … ┆ …          ┆ …          ┆ …         ┆ …         │\n",
      "│ 127   ┆ neuroswis ┆ Kiran      ┆ https://i ┆ … ┆ null       ┆ -1         ┆ ChIJOwg_0 ┆ New York, │\n",
      "│       ┆ h         ┆            ┆ .imgur.co ┆   ┆            ┆            ┆ 6VPwokRYv ┆ NY, USA   │\n",
      "│       ┆           ┆            ┆ m/oh01fQa ┆   ┆            ┆            ┆ 534QaPC8g ┆           │\n",
      "│       ┆           ┆            ┆ .png      ┆   ┆            ┆            ┆           ┆           │\n",
      "│ 75    ┆ osama     ┆ osama      ┆ https://i ┆ … ┆ null       ┆ -1         ┆ ChIJOwg_0 ┆ New York, │\n",
      "│       ┆           ┆            ┆ mg.seadn. ┆   ┆            ┆            ┆ 6VPwokRYv ┆ NY, USA   │\n",
      "│       ┆           ┆            ┆ io/files/ ┆   ┆            ┆            ┆ 534QaPC8g ┆           │\n",
      "│       ┆           ┆            ┆ 6529c…    ┆   ┆            ┆            ┆           ┆           │\n",
      "│ 66    ┆ tayyab    ┆ Tayyab     ┆ https://i ┆ … ┆ null       ┆ -1         ┆ ChIJOwg_0 ┆ New York, │\n",
      "│       ┆           ┆            ┆ .seadn.io ┆   ┆            ┆            ┆ 6VPwokRYv ┆ NY, USA   │\n",
      "│       ┆           ┆            ┆ /gcs/file ┆   ┆            ┆            ┆ 534QaPC8g ┆           │\n",
      "│       ┆           ┆            ┆ s/309…    ┆   ┆            ┆            ┆           ┆           │\n",
      "│ 347   ┆ greg      ┆ Greg       ┆ https://i ┆ … ┆ null       ┆ -1         ┆ ChIJOwg_0 ┆ New York, │\n",
      "│       ┆           ┆ Skriloff   ┆ .seadn.io ┆   ┆            ┆            ┆ 6VPwokRYv ┆ NY, USA   │\n",
      "│       ┆           ┆            ┆ /gae/YsAS ┆   ┆            ┆            ┆ 534QaPC8g ┆           │\n",
      "│       ┆           ┆            ┆ emS2q…    ┆   ┆            ┆            ┆           ┆           │\n",
      "└───────┴───────────┴────────────┴───────────┴───┴────────────┴────────────┴───────────┴───────────┘\n"
     ]
    }
   ],
   "source": [
    "# here's a fancier query: get all farcasters in new york\n",
    "query = \"SELECT * FROM read_parquet('datasets/users.parquet') u JOIN read_parquet('datasets/user_extra.parquet') ue ON u.fid = ue.fid JOIN read_parquet('datasets/locations.parquet') l ON ue.location_id = l.id WHERE LOWER(l.description) LIKE '%new york%'\"\n",
    "\n",
    "users = duckdb.query(query).pl()\n",
    "print(users)\n"
   ]
  },
  {
   "cell_type": "code",
   "execution_count": 33,
   "metadata": {},
   "outputs": [
    {
     "name": "stdout",
     "output_type": "stream",
     "text": [
      "shape: (60, 8)\n",
      "┌──────────────┬─────────────┬─────────────┬─────────────┬─────────────┬────────────┬──────┬───────┐\n",
      "│ hash         ┆ thread_hash ┆ parent_hash ┆ text        ┆ timestamp   ┆ author_fid ┆ year ┆ month │\n",
      "│ ---          ┆ ---         ┆ ---         ┆ ---         ┆ ---         ┆ ---        ┆ ---  ┆ ---   │\n",
      "│ str          ┆ str         ┆ str         ┆ str         ┆ i64         ┆ i64        ┆ i32  ┆ i32   │\n",
      "╞══════════════╪═════════════╪═════════════╪═════════════╪═════════════╪════════════╪══════╪═══════╡\n",
      "│ 0xd913c70968 ┆ 0xa75522564 ┆ 0x82939b1b7 ┆ @v you      ┆ 16421976460 ┆ 3          ┆ 2022 ┆ 1     │\n",
      "│ 1ed094c979ee ┆ a7613a5b89e ┆ c8eeea68cd1 ┆ should get  ┆ 67          ┆            ┆      ┆       │\n",
      "│ 2c09ec47…    ┆ 82c7f2fb3a… ┆ a984a3351f… ┆ a coffee    ┆             ┆            ┆      ┆       │\n",
      "│              ┆             ┆             ┆ mug o…      ┆             ┆            ┆      ┆       │\n",
      "│ 0xf75a80ff9b ┆ 0xceae07d6f ┆ 0xceae07d6f ┆ Erewhon!    ┆ 16475438621 ┆ 3          ┆ 2022 ┆ 3     │\n",
      "│ 881e43cee1aa ┆ 39082505038 ┆ 39082505038 ┆             ┆ 06          ┆            ┆      ┆       │\n",
      "│ c105dd79…    ┆ b1463b93e8… ┆ b1463b93e8… ┆             ┆             ┆            ┆      ┆       │\n",
      "│ 0x002adecaac ┆ 0xc2b411ff2 ┆ 0xeeac0efba ┆ reminds me  ┆ 16514411778 ┆ 474        ┆ 2022 ┆ 5     │\n",
      "│ 885b3a32e96b ┆ 8c5bd1fbe40 ┆ e312065b381 ┆ of another  ┆ 09          ┆            ┆      ┆       │\n",
      "│ a480e3ce…    ┆ 72ba0e5779… ┆ 24109f3d27… ┆ classic mo… ┆             ┆            ┆      ┆       │\n",
      "│ 0x24945c8c7b ┆ 0xc2b411ff2 ┆ 0xc2b411ff2 ┆ Was surreal ┆ 16514402512 ┆ 2          ┆ 2022 ┆ 5     │\n",
      "│ f3872259c335 ┆ 8c5bd1fbe40 ┆ 8c5bd1fbe40 ┆ seeing      ┆ 16          ┆            ┆      ┆       │\n",
      "│ 975206f8…    ┆ 72ba0e5779… ┆ 72ba0e5779… ┆ someone use ┆             ┆            ┆      ┆       │\n",
      "│              ┆             ┆             ┆ F…          ┆             ┆            ┆      ┆       │\n",
      "│ …            ┆ …           ┆ …           ┆ …           ┆ …           ┆ …          ┆ …    ┆ …     │\n",
      "│ 0xa0b3498acb ┆ 0xf9c6e325d ┆ 0xf9c6e325d ┆ I heard     ┆ 16778055060 ┆ 3          ┆ 2023 ┆ 3     │\n",
      "│ 4da42a426b80 ┆ c3933b5ce89 ┆ c3933b5ce89 ┆ they didn't ┆ 00          ┆            ┆      ┆       │\n",
      "│ 2923689f…    ┆ f4d5f6ea40… ┆ f4d5f6ea40… ┆ have        ┆             ┆            ┆      ┆       │\n",
      "│              ┆             ┆             ┆ Gjelina…    ┆             ┆            ┆      ┆       │\n",
      "│ 0xb8d6473778 ┆ 0x67e32735f ┆ 0x67e32735f ┆ it was a    ┆ 16790811870 ┆ 2          ┆ 2023 ┆ 3     │\n",
      "│ 7f6bea41c2e3 ┆ 6afb41e60b8 ┆ 6afb41e60b8 ┆ crisis,     ┆ 00          ┆            ┆      ┆       │\n",
      "│ 63c5a086…    ┆ dddeb40a10… ┆ dddeb40a10… ┆ even        ┆             ┆            ┆      ┆       │\n",
      "│              ┆             ┆             ┆ erewhon is… ┆             ┆            ┆      ┆       │\n",
      "│ 0xc7b81ea2eb ┆ 0xd2bc0234e ┆ 0xfc98a5e70 ┆ best - walk ┆ 16783021290 ┆ 3          ┆ 2023 ┆ 3     │\n",
      "│ 36ec07f51527 ┆ a8404a1ed86 ┆ a32622109e8 ┆ ability,    ┆ 00          ┆            ┆      ┆       │\n",
      "│ 4d3cccfe…    ┆ 97aaba572e… ┆ fd632921f1… ┆ weather,    ┆             ┆            ┆      ┆       │\n",
      "│              ┆             ┆             ┆ gje…        ┆             ┆            ┆      ┆       │\n",
      "│ 0x7aafd77fac ┆ 0x2912d2188 ┆ 0x2912d2188 ┆ erewhon     ┆ 16794207030 ┆ 239        ┆ 2023 ┆ 3     │\n",
      "│ 9d9f9d7307d7 ┆ 1be03de504a ┆ 1be03de504a ┆ immunity    ┆ 00          ┆            ┆      ┆       │\n",
      "│ d25d7404…    ┆ 38495c12d3… ┆ 38495c12d3… ┆ bone broth  ┆             ┆            ┆      ┆       │\n",
      "└──────────────┴─────────────┴─────────────┴─────────────┴─────────────┴────────────┴──────┴───────┘\n",
      "shape: (4, 5)\n",
      "┌─────┬──────────┬────────────────────┬────────────────────────────────────┬───────────────────────┐\n",
      "│ fid ┆ username ┆ display_name       ┆ pfp_url                            ┆ bio_text              │\n",
      "│ --- ┆ ---      ┆ ---                ┆ ---                                ┆ ---                   │\n",
      "│ i64 ┆ str      ┆ str                ┆ str                                ┆ str                   │\n",
      "╞═════╪══════════╪════════════════════╪════════════════════════════════════╪═══════════════════════╡\n",
      "│ 474 ┆ pdr      ┆ Peter Rood         ┆ https://i.seadn.io/gae/F-g4Y0Ola…  ┆ this is a life, so… | │\n",
      "│     ┆          ┆                    ┆                                    ┆ nf.td/pdr             │\n",
      "│ 239 ┆ ted      ┆ ted (not lasso) 🍑 ┆ https://openseauserdata.com/file…  ┆ biz ops @goldfinch |  │\n",
      "│     ┆          ┆                    ┆                                    ┆ contributor…          │\n",
      "│ 3   ┆ dwr      ┆ Dan Romero         ┆ https://res.cloudinary.com/merkl…  ┆ Working on Farcaster  │\n",
      "│     ┆          ┆                    ┆                                    ┆ nf.td/dwr             │\n",
      "│ 2   ┆ v        ┆ Varun Srinivasan   ┆ https://i.seadn.io/gae/sYAr036bd…  ┆ A technowatermelon.   │\n",
      "│     ┆          ┆                    ┆                                    ┆ Building Far…         │\n",
      "└─────┴──────────┴────────────────────┴────────────────────────────────────┴───────────────────────┘\n"
     ]
    }
   ],
   "source": [
    "# you can also use pandas or polars to process things\n",
    "# ex: get all users where they have at least 5 casts that contain \"gjelina\" or \"erewhon\" \n",
    "import polars as pl\n",
    "\n",
    "cast_query = \"select * from read_parquet('datasets/casts*.parquet')\"\n",
    "cast_df = duckdb.query(cast_query).df()\n",
    "\n",
    "# get all users where they have at least 5 casts that contain \"gjelina\" or \"erewhon\"\n",
    "cast_df = cast_df[cast_df['text'].str.contains('gjelina|erewhon', case=False)]\n",
    "cast_df = cast_df.groupby('author_fid').filter(lambda x: len(x) >= 5)\n",
    "print(pl.DataFrame._from_pandas(cast_df))\n",
    "\n",
    "# get the user info, then print it out\n",
    "fids = cast_df['author_fid'].unique()\n",
    "user_query = \"select * from read_parquet('datasets/users.parquet')\"\n",
    "users_df = duckdb.query(user_query).df()\n",
    "users_df = users_df[users_df['fid'].isin(fids)]\n",
    "print(pl.DataFrame._from_pandas(users_df))\n"
   ]
  },
  {
   "cell_type": "code",
   "execution_count": 50,
   "metadata": {},
   "outputs": [
    {
     "data": {
      "image/png": "[encoded data removed]",
      "text/plain": [
       "<Figure size 640x480 with 1 Axes>"
      ]
     },
     "metadata": {},
     "output_type": "display_data"
    }
   ],
   "source": [
    "# you can also use seaborn/matplotlib to visualize things\n",
    "# ex: plot top 10 farcasters' most frequent locations\n",
    "import seaborn as sns\n",
    "import matplotlib.pyplot as plt\n",
    "\n",
    "# get top 10 farcasters' most frequent locations\n",
    "query = \"\"\"\n",
    "SELECT l.description, COUNT(*) AS count\n",
    "FROM read_parquet('datasets/locations.parquet') l\n",
    "JOIN read_parquet('datasets/user_extra.parquet') ue ON l.id = ue.location_id\n",
    "GROUP BY l.description\n",
    "ORDER BY count DESC\n",
    "LIMIT 10;\n",
    "\"\"\"\n",
    "df = duckdb.query(query).df()\n",
    "sns.barplot(x='count', y='description', data=df, palette=\"deep\")\n",
    "plt.show()\n"
   ]
  },
  {
   "attachments": {},
   "cell_type": "markdown",
   "metadata": {},
   "source": [
    "I hope you enjoy using Warpy!\n",
    "\n",
    "Complaints, comments, feedback to go @pixel on Farcaster :)\n"
   ]
  }
 ],
 "metadata": {
  "kernelspec": {
   "display_name": "venv",
   "language": "python",
   "name": "python3"
  },
  "language_info": {
   "codemirror_mode": {
    "name": "ipython",
    "version": 3
   },
   "file_extension": ".py",
   "mimetype": "text/x-python",
   "name": "python",
   "nbconvert_exporter": "python",
   "pygments_lexer": "ipython3",
   "version": "3.11.2"
  },
  "orig_nbformat": 4
 },
 "nbformat": 4,
 "nbformat_minor": 2
}
