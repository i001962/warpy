{
 "cells": [
  {
   "cell_type": "code",
   "execution_count": 2,
   "metadata": {},
   "outputs": [],
   "source": [
    "# connect to test.db sqlite, create session, then run \"get all users\" with session.Query\n",
    "from sqlalchemy import create_engine, func\n",
    "from sqlalchemy.orm import sessionmaker\n",
    "from models import Base, Cast, User, Reaction, Location, parent_association\n",
    "import pandas as pd\n",
    "import seaborn as sns\n",
    "import matplotlib.pyplot as plt\n",
    "\n",
    "\n",
    "engine = create_engine('sqlite:///data.db')\n",
    "Session = sessionmaker(bind=engine)\n",
    "session = Session()\n"
   ]
  },
  {
   "cell_type": "code",
   "execution_count": 3,
   "metadata": {},
   "outputs": [
    {
     "data": {
      "text/plain": [
       "'\\nPlace all models in the notebook so Copilot knows what it\\'s working with\\n\\nHere are all the available models:\\nparent_association = Table(\\'parent_association\\', Base.metadata,\\n                           Column(\\'parent_hash\\', String,\\n                                  ForeignKey(\\'casts.hash\\')),\\n                           Column(\\'cast_hash\\', String,\\n                                  ForeignKey(\\'casts.hash\\'))\\n                           )\\n\\n\\n# figure out ancestor hashes later\\nclass Cast(Base):\\n    __tablename__ = \\'casts\\'\\n    hash = Column(String, primary_key=True)\\n    thread_hash = Column(String, ForeignKey(\\n        \\'casts.hash\\'))\\n    parent_hash = Column(String, ForeignKey(\\n        \\'casts.hash\\'), nullable=True)\\n    text = Column(String)\\n    timestamp = Column(BigInteger)\\n    author_fid = Column(BigInteger, ForeignKey(\\n        \\'users.fid\\'))\\n    author = relationship(\\'User\\', back_populates=\\'casts\\')\\n    reactions = relationship(\\'Reaction\\', back_populates=\\'target\\')\\n    children_hashes = relationship(\"Cast\", secondary=parent_association,\\n                                   primaryjoin=(\\n                                       hash == parent_association.c.parent_hash),\\n                                   secondaryjoin=(\\n                                       hash == parent_association.c.cast_hash),\\n                                   backref=\"parent_casts\")\\n\\n\\nclass Reaction(Base):\\n    __tablename__ = \\'reactions\\'\\n    hash = Column(String, primary_key=True)\\n    reaction_type = Column(String)  # like & recast\\n    timestamp = Column(BigInteger)\\n    target_hash = Column(String, ForeignKey(\\'casts.hash\\'))\\n    author_fid = Column(BigInteger, ForeignKey(\\'users.fid\\'))\\n    target = relationship(\\'Cast\\', back_populates=\\'reactions\\')\\n\\n\\nclass Location(Base):\\n    __tablename__ = \\'locations\\'\\n    place_id = Column(String, primary_key=True)\\n    description = Column(String)\\n    users = relationship(\\'User\\', backref=\\'location\\')\\n\\n\\nclass User(Base):\\n    __tablename__ = \\'users\\'\\n    fid = Column(BigInteger, primary_key=True)\\n    username = Column(String)\\n    display_name = Column(String)\\n    verified = Column(Boolean, default=False)\\n    pfp_url = Column(String, nullable=True)\\n    follower_count = Column(BigInteger)\\n    following_count = Column(BigInteger)\\n    bio_text = Column(String, nullable=True)\\n    location_place_id = Column(String, ForeignKey(\\n        \\'locations.place_id\\'), nullable=True)\\n    casts = relationship(\\'Cast\\', back_populates=\\'author\\')\\n\\n'"
      ]
     },
     "execution_count": 3,
     "metadata": {},
     "output_type": "execute_result"
    }
   ],
   "source": [
    "\"\"\"\n",
    "Place all models in the notebook so Copilot knows what it's working with\n",
    "\n",
    "Here are all the available models:\n",
    "parent_association = Table('parent_association', Base.metadata,\n",
    "                           Column('parent_hash', String,\n",
    "                                  ForeignKey('casts.hash')),\n",
    "                           Column('cast_hash', String,\n",
    "                                  ForeignKey('casts.hash'))\n",
    "                           )\n",
    "\n",
    "\n",
    "# figure out ancestor hashes later\n",
    "class Cast(Base):\n",
    "    __tablename__ = 'casts'\n",
    "    hash = Column(String, primary_key=True)\n",
    "    thread_hash = Column(String, ForeignKey(\n",
    "        'casts.hash'))\n",
    "    parent_hash = Column(String, ForeignKey(\n",
    "        'casts.hash'), nullable=True)\n",
    "    text = Column(String)\n",
    "    timestamp = Column(BigInteger)\n",
    "    author_fid = Column(BigInteger, ForeignKey(\n",
    "        'users.fid'))\n",
    "    author = relationship('User', back_populates='casts')\n",
    "    reactions = relationship('Reaction', back_populates='target')\n",
    "    children_hashes = relationship(\"Cast\", secondary=parent_association,\n",
    "                                   primaryjoin=(\n",
    "                                       hash == parent_association.c.parent_hash),\n",
    "                                   secondaryjoin=(\n",
    "                                       hash == parent_association.c.cast_hash),\n",
    "                                   backref=\"parent_casts\")\n",
    "\n",
    "\n",
    "class Reaction(Base):\n",
    "    __tablename__ = 'reactions'\n",
    "    hash = Column(String, primary_key=True)\n",
    "    reaction_type = Column(String)  # like & recast\n",
    "    timestamp = Column(BigInteger)\n",
    "    target_hash = Column(String, ForeignKey('casts.hash'))\n",
    "    author_fid = Column(BigInteger, ForeignKey('users.fid'))\n",
    "    target = relationship('Cast', back_populates='reactions')\n",
    "\n",
    "\n",
    "class Location(Base):\n",
    "    __tablename__ = 'locations'\n",
    "    place_id = Column(String, primary_key=True)\n",
    "    description = Column(String)\n",
    "    users = relationship('User', backref='location')\n",
    "\n",
    "\n",
    "class User(Base):\n",
    "    __tablename__ = 'users'\n",
    "    fid = Column(BigInteger, primary_key=True)\n",
    "    username = Column(String)\n",
    "    display_name = Column(String)\n",
    "    verified = Column(Boolean, default=False)\n",
    "    pfp_url = Column(String, nullable=True)\n",
    "    follower_count = Column(BigInteger)\n",
    "    following_count = Column(BigInteger)\n",
    "    bio_text = Column(String, nullable=True)\n",
    "    location_place_id = Column(String, ForeignKey(\n",
    "        'locations.place_id'), nullable=True)\n",
    "    casts = relationship('Cast', back_populates='author')\n",
    "\n",
    "\"\"\""
   ]
  },
  {
   "cell_type": "code",
   "execution_count": 4,
   "metadata": {},
   "outputs": [
    {
     "name": "stdout",
     "output_type": "stream",
     "text": [
      "          username                location\n",
      "0                v    Los Angeles, CA, USA\n",
      "1              dwr    Los Angeles, CA, USA\n",
      "2               mp  San Francisco, CA, USA\n",
      "3            b-rad          Miami, FL, USA\n",
      "4              sds  San Francisco, CA, USA\n",
      "..             ...                     ...\n",
      "410          bayka        Seattle, WA, USA\n",
      "411          vladn          Miami, FL, USA\n",
      "412  thelafffinman      San Diego, CA, USA\n",
      "413      ericnagel        Buffalo, NY, USA\n",
      "414       das-mchl       New York, NY, USA\n",
      "\n",
      "[415 rows x 2 columns]\n"
     ]
    }
   ],
   "source": [
    "# get all users where they have location with description that contains \"USA\"\n",
    "# description_location is from the Location model\n",
    "# location_place_id is from the User model\n",
    "\n",
    "locations = session.query(Location).filter(\n",
    "    Location.description.contains(\"USA\")).all()\n",
    "\n",
    "# print users with locations\n",
    "users = session.query(User).filter(\n",
    "    User.location_place_id.in_([location.place_id for location in locations])).all()\n",
    "\n",
    "df = pd.DataFrame([user.__dict__ for user in users])\n",
    "# print(df)\n",
    "\n",
    "# make df with username, location column\n",
    "\n",
    "new_df = pd.DataFrame(columns=[\"username\", \"location\"])\n",
    "for user in users:\n",
    "    new_df = pd.concat([new_df, pd.DataFrame({\"username\": [user.username], \"location\": [user.location.description]})], ignore_index=True)\n",
    "\n",
    "print(new_df)"
   ]
  },
  {
   "cell_type": "code",
   "execution_count": 5,
   "metadata": {},
   "outputs": [
    {
     "name": "stdout",
     "output_type": "stream",
     "text": [
      "True\n",
      "610139 240813 369326\n"
     ]
    }
   ],
   "source": [
    "casts_with_no_parent = session.query(\n",
    "    Cast).filter(Cast.parent_hash == None).all()\n",
    "\n",
    "all_associations = session.query(parent_association).all()\n",
    "\n",
    "all_casts = session.query(Cast).all()\n",
    "\n",
    "print(len(all_casts) - len(casts_with_no_parent) == len(all_associations))\n",
    "print(len(all_casts), len(casts_with_no_parent), len(all_associations))\n"
   ]
  },
  {
   "cell_type": "code",
   "execution_count": 13,
   "metadata": {},
   "outputs": [
    {
     "name": "stdout",
     "output_type": "stream",
     "text": [
      "11\n",
      "nt\n",
      "slowcrypto\n",
      "lsl\n",
      "lukaslevert\n",
      "thepaulbalaji\n",
      "esskayen\n",
      "sheftali\n",
      "userman\n",
      "praven\n",
      "tonysellen\n",
      "daish\n"
     ]
    },
    {
     "data": {
      "image/png": "[encoded data removed]",
      "text/plain": [
       "<Figure size 640x480 with 1 Axes>"
      ]
     },
     "metadata": {},
     "output_type": "display_data"
    }
   ],
   "source": [
    "# get all users who are in the UK\n",
    "\n",
    "uk_locations = session.query(Location).filter(\n",
    "    Location.description.contains(\"UK\")).all()\n",
    "\n",
    "uk_users = session.query(User).filter(\n",
    "    User.location_place_id.in_([location.place_id for location in uk_locations])).all()\n",
    "\n",
    "# just print the usernames\n",
    "print(len(uk_users))\n",
    "for user in uk_users:\n",
    "    print(user.username)\n",
    "\n",
    "# from all these uk users, sort by follower\n",
    "\n",
    "uk_users.sort(key=lambda user: user.follower_count, reverse=True)\n",
    "\n",
    "# seaborn plot\n",
    "\n",
    "sns.set_theme(style=\"whitegrid\")\n",
    "ax = sns.barplot(x=[user.follower_count for user in uk_users[:10]], y=[user.username for user in uk_users[:10]])"
   ]
  },
  {
   "cell_type": "code",
   "execution_count": 17,
   "metadata": {},
   "outputs": [
    {
     "name": "stdout",
     "output_type": "stream",
     "text": [
      "For tax purposes, a DAO is a partnership by default, but can declare as a corporation by public vote.\n",
      "\n",
      "A DAO shall allocate the distributive share of income, gain, loss, deduction, and credit derived to each member in proportion to the member's membership interest in the entity.\n",
      "DAO does not have an administrator, all members are considered co-administrators.\n",
      "\n",
      "Members are not personally liable. However, if DAO refuses to comply with an enforceable judgment or order. Member who vote to not compliace may be liable for monetary payments.\n",
      "In addition to this, the bill provides a clear definition of members and responsibilities.\n",
      "\n",
      "However, only deployments on permissionless blockchains that maintain open source code and have decentralized governance  are eligible for registration as a limited liability DAO in Utah.\n",
      "We used to register LLC, UNA, Foundation, Co-op for tax/liability protection and affair for DAO. It is essentially adding a legal wrapper to DAOs, it is effective but has some limitations.\n",
      "\n",
      "The Utah DAO Act grants the DAO a form of legal recognition that is unique to DAOs.\n",
      "The “Utah DAO Act” -\n",
      "\n",
      "DAO has a legal personality, is limited liability,  and protect members from personal liability.\n",
      "\n",
      "DAO needs to be deployed on a permissionless blockchain with decentralized governance system.\n",
      "\n",
      "Open sourced is required. \n",
      "1/n\n",
      "I’ve seen a bug ticket about “natural sorting” at every company I’ve worked so far.\n",
      "\n",
      "Humans expect to see\n",
      "\n",
      "Img1 \n",
      "Img3\n",
      "Img10\n",
      "\n",
      "rather than \n",
      "\n",
      "Img1\n",
      "Img10\n",
      "Img3\n",
      "\n",
      "Jeff Atwood’s article from 2007 https://blog.codinghorror.com/sorting-for-humans-natural-sort-order/amp/\n",
      "\n",
      "Here I am, googling again how to natural sort in js :(\n",
      "Congrats for launching!\n",
      "Resolution: Less screen this month\n",
      "Staying more focused in the studio Pov : the studio https://i.imgur.com/230CQEG.jpg\n",
      "Congrats!🎉\n",
      "peer scoring seems to cause more problems than it really helps - i’d love to see benchmarks on node syncing/gossiping with peer scoring in less than favourable network conditions\n"
     ]
    }
   ],
   "source": []
  }
 ],
 "metadata": {
  "kernelspec": {
   "display_name": "venv",
   "language": "python",
   "name": "python3"
  },
  "language_info": {
   "codemirror_mode": {
    "name": "ipython",
    "version": 3
   },
   "file_extension": ".py",
   "mimetype": "text/x-python",
   "name": "python",
   "nbconvert_exporter": "python",
   "pygments_lexer": "ipython3",
   "version": "3.11.2"
  },
  "orig_nbformat": 4,
  "vscode": {
   "interpreter": {
    "hash": "517cd8b605ae8ac02850de69c54d02323980c3535b0e948d0e14670b67df70f7"
   }
  }
 },
 "nbformat": 4,
 "nbformat_minor": 2
}
