{
 "cells": [
  {
   "attachments": {},
   "cell_type": "markdown",
   "metadata": {},
   "source": [
    "# Warpy: open-source Farcaster datasets\n",
    "\n",
    "By running `python download.py`, you can download the Farcaster datasets. This notebook will walk you through the things you can do with it.\n"
   ]
  },
  {
   "cell_type": "code",
   "execution_count": 2,
   "metadata": {},
   "outputs": [
    {
     "name": "stdout",
     "output_type": "stream",
     "text": [
      "Datasets exists, continuing...\n"
     ]
    }
   ],
   "source": [
    "import os\n",
    "import duckdb\n",
    "\n",
    "if not os.path.exists('./datasets'):\n",
    "    !python download.py\n",
    "else:\n",
    "    print('Datasets exists, continuing...')\n"
   ]
  },
  {
   "cell_type": "code",
   "execution_count": 3,
   "metadata": {},
   "outputs": [
    {
     "name": "stdout",
     "output_type": "stream",
     "text": [
      "shape: (5, 12)\n",
      "┌───────┬───────────┬────────────┬──────────┬───┬────────────┬────────────┬────────────┬───────────┐\n",
      "│ fid   ┆ username  ┆ display_na ┆ pfp_url  ┆ … ┆ farcaster_ ┆ external_a ┆ registered ┆ location_ │\n",
      "│ ---   ┆ ---       ┆ me         ┆ ---      ┆   ┆ address    ┆ ddress     ┆ _at        ┆ id        │\n",
      "│ i64   ┆ str       ┆ ---        ┆ str      ┆   ┆ ---        ┆ ---        ┆ ---        ┆ ---       │\n",
      "│       ┆           ┆ str        ┆          ┆   ┆ str        ┆ str        ┆ i64        ┆ str       │\n",
      "╞═══════╪═══════════╪════════════╪══════════╪═══╪════════════╪════════════╪════════════╪═══════════╡\n",
      "│ 3030  ┆ emon      ┆ emon       ┆ https:// ┆ … ┆ 0x55133d5B ┆ 0x60d02a61 ┆ 1665264771 ┆           │\n",
      "│       ┆           ┆            ┆ i.seadn. ┆   ┆ B5C2b47CD8 ┆ 3da7181278 ┆ 970        ┆           │\n",
      "│       ┆           ┆            ┆ io/gae/X ┆   ┆ eE5Fc37933 ┆ e9f48241fd ┆            ┆           │\n",
      "│       ┆           ┆            ┆ D8bR5ohg ┆   ┆ 21…        ┆ cc…        ┆            ┆           │\n",
      "│       ┆           ┆            ┆ …        ┆   ┆            ┆            ┆            ┆           │\n",
      "│ 1112  ┆ farcaster ┆ FarcasterA ┆ https:// ┆ … ┆ 0xDa62d187 ┆ null       ┆ 1658944430 ┆           │\n",
      "│       ┆ auth      ┆ uth        ┆ explorer ┆   ┆ 548c902d02 ┆            ┆ 000        ┆           │\n",
      "│       ┆           ┆            ┆ .farcast ┆   ┆ 63F88eD7DA ┆            ┆            ┆           │\n",
      "│       ┆           ┆            ┆ er.xyz/a ┆   ┆ 85…        ┆            ┆            ┆           │\n",
      "│       ┆           ┆            ┆ …        ┆   ┆            ┆            ┆            ┆           │\n",
      "│ 10334 ┆ trxnt     ┆ trxnt      ┆ https:// ┆ … ┆ 0x942e36b6 ┆ null       ┆ 1678078057 ┆           │\n",
      "│       ┆           ┆            ┆ i.imgur. ┆   ┆ e5EA1EB381 ┆            ┆ 886        ┆           │\n",
      "│       ┆           ┆            ┆ com/nr2p ┆   ┆ c400A4a100 ┆            ┆            ┆           │\n",
      "│       ┆           ┆            ┆ SLP.jpg  ┆   ┆ 00…        ┆            ┆            ┆           │\n",
      "│ 8582  ┆ victor928 ┆ Victor     ┆ https:// ┆ … ┆ 0x3F399137 ┆ 0xbc8dafea ┆ 1675245986 ┆           │\n",
      "│       ┆           ┆ Zhang      ┆ i.seadn. ┆   ┆ 9b23E6D21f ┆ ca658ae085 ┆ 458        ┆           │\n",
      "│       ┆           ┆            ┆ io/gae/Y ┆   ┆ Efdc342eAf ┆ 7c80d8aa6d ┆            ┆           │\n",
      "│       ┆           ┆            ┆ QkllWnEG ┆   ┆ B9…        ┆ e4…        ┆            ┆           │\n",
      "│       ┆           ┆            ┆ …        ┆   ┆            ┆            ┆            ┆           │\n",
      "│ 6739  ┆ radford   ┆ Fred       ┆ https:// ┆ … ┆ 0x2e53DAbd ┆ 0xb18db61b ┆ 1670472533 ┆           │\n",
      "│       ┆           ┆ Radford    ┆ i.imgur. ┆   ┆ ca1F586a8d ┆ cab755d3f2 ┆ 327        ┆           │\n",
      "│       ┆           ┆            ┆ com/7tmc ┆   ┆ f4784EDF62 ┆ 3cbd3b5a78 ┆            ┆           │\n",
      "│       ┆           ┆            ┆ sIg.png  ┆   ┆ 61…        ┆ 3a…        ┆            ┆           │\n",
      "└───────┴───────────┴────────────┴──────────┴───┴────────────┴────────────┴────────────┴───────────┘\n"
     ]
    }
   ],
   "source": [
    "# you can use duckdb to directly query the files with SQL\n",
    "query = \"select * from users order by random() limit 5\"\n",
    "\n",
    "with duckdb.connect('datasets/datasets.db') as con:\n",
    "    print(con.sql(query).pl())\n",
    "\n",
    "# Note: to use ChatGPT to write query for you, see query.py\n",
    "# ex: `python query.py \"get ten random users\"`"
   ]
  },
  {
   "cell_type": "code",
   "execution_count": 6,
   "metadata": {},
   "outputs": [
    {
     "name": "stdout",
     "output_type": "stream",
     "text": [
      "shape: (3, 12)\n",
      "┌───────┬───────────┬────────────┬──────────┬───┬────────────┬────────────┬────────────┬───────────┐\n",
      "│ fid   ┆ username  ┆ display_na ┆ pfp_url  ┆ … ┆ farcaster_ ┆ external_a ┆ registered ┆ location_ │\n",
      "│ ---   ┆ ---       ┆ me         ┆ ---      ┆   ┆ address    ┆ ddress     ┆ _at        ┆ id        │\n",
      "│ i64   ┆ str       ┆ ---        ┆ str      ┆   ┆ ---        ┆ ---        ┆ ---        ┆ ---       │\n",
      "│       ┆           ┆ str        ┆          ┆   ┆ str        ┆ str        ┆ i64        ┆ str       │\n",
      "╞═══════╪═══════════╪════════════╪══════════╪═══╪════════════╪════════════╪════════════╪═══════════╡\n",
      "│ 7484  ┆ pierceswo ┆ PiercedCAT ┆ https:// ┆ … ┆ 0x0738C27A ┆ 0xdafa9e3d ┆ 1671567770 ┆ ChIJr-eHX │\n",
      "│       ┆ rd        ┆            ┆ i.imgur. ┆   ┆ D059298552 ┆ ae493f0b9d ┆ 334        ┆ CDBGGARXv │\n",
      "│       ┆           ┆            ┆ com/QpOb ┆   ┆ 63724c8a33 ┆ 6872eff4fd ┆            ┆ aiv8DydIw │\n",
      "│       ┆           ┆            ┆ dH6.jpg  ┆   ┆ b6…        ┆ a0…        ┆            ┆           │\n",
      "│ 10036 ┆ arao      ┆ Arao       ┆ https:// ┆ … ┆ 0x53FF18F6 ┆ 0x0d6d77ed ┆ 1677684834 ┆ ChIJXSMod │\n",
      "│       ┆           ┆            ┆ i.imgur. ┆   ┆ 59984EE4A4 ┆ 9a0335152c ┆ 765        ┆ oWLGGARIL │\n",
      "│       ┆           ┆            ┆ com/cC0P ┆   ┆ 05b7e597F5 ┆ 2b8e637b84 ┆            ┆ WiCfeu2M0 │\n",
      "│       ┆           ┆            ┆ 4cG.jpg  ┆   ┆ Dc…        ┆ c7…        ┆            ┆           │\n",
      "│ 10143 ┆ ic        ┆ Eric       ┆ https:// ┆ … ┆ 0xFdab4DD5 ┆ 0xb29fe76f ┆ 1677805646 ┆ ChIJXSMod │\n",
      "│       ┆           ┆ Platon     ┆ i.imgur. ┆   ┆ 7E3797bfA7 ┆ 64dc51aee3 ┆ 025        ┆ oWLGGARIL │\n",
      "│       ┆           ┆            ┆ com/iRmC ┆   ┆ f0D6c7456e ┆ d40a2a05a8 ┆            ┆ WiCfeu2M0 │\n",
      "│       ┆           ┆            ┆ r70.jpg  ┆   ┆ 61…        ┆ dd…        ┆            ┆           │\n",
      "└───────┴───────────┴────────────┴──────────┴───┴────────────┴────────────┴────────────┴───────────┘\n"
     ]
    }
   ],
   "source": [
    "# here's a fancier query: get all farcasters in new york\n",
    "query = \"SELECT * FROM users WHERE location_id IN (SELECT id FROM locations WHERE description LIKE '%Japan%') LIMIT 3;\"\n",
    "\n",
    "with duckdb.connect('datasets/datasets.db') as con:\n",
    "    print(con.sql(query).pl())"
   ]
  },
  {
   "cell_type": "code",
   "execution_count": 7,
   "metadata": {},
   "outputs": [
    {
     "name": "stdout",
     "output_type": "stream",
     "text": [
      "shape: (60, 6)\n",
      "┌─────────────────┬─────────────────┬────────────────┬───────────────┬────────────┬────────────────┐\n",
      "│ hash            ┆ thread_hash     ┆ text           ┆ timestamp     ┆ author_fid ┆ parent_hash    │\n",
      "│ ---             ┆ ---             ┆ ---            ┆ ---           ┆ ---        ┆ ---            │\n",
      "│ str             ┆ str             ┆ str            ┆ i64           ┆ i64        ┆ str            │\n",
      "╞═════════════════╪═════════════════╪════════════════╪═══════════════╪════════════╪════════════════╡\n",
      "│ 0xd913c709681ed ┆ 0xa75522564a761 ┆ @v you should  ┆ 1642197646067 ┆ 3          ┆ 0x82939b1b7c8e │\n",
      "│ 094c979ee2c09ec ┆ 3a5b89e82c7f2fb ┆ get a coffee   ┆               ┆            ┆ eea68cd1a984a3 │\n",
      "│ 47…             ┆ 3a…             ┆ mug o…         ┆               ┆            ┆ 351f…          │\n",
      "│ 0xf75a80ff9b881 ┆ 0xceae07d6f3908 ┆ Erewhon!       ┆ 1647543862106 ┆ 3          ┆ 0xceae07d6f390 │\n",
      "│ e43cee1aac105dd ┆ 2505038b1463b93 ┆                ┆               ┆            ┆ 82505038b1463b │\n",
      "│ 79…             ┆ e8…             ┆                ┆               ┆            ┆ 93e8…          │\n",
      "│ 0x002adecaac885 ┆ 0xc2b411ff28c5b ┆ reminds me of  ┆ 1651441177809 ┆ 474        ┆ 0xeeac0efbae31 │\n",
      "│ b3a32e96ba480e3 ┆ d1fbe4072ba0e57 ┆ another        ┆               ┆            ┆ 2065b38124109f │\n",
      "│ ce…             ┆ 79…             ┆ classic mo…    ┆               ┆            ┆ 3d27…          │\n",
      "│ 0x24945c8c7bf38 ┆ 0xc2b411ff28c5b ┆ Was surreal    ┆ 1651440251216 ┆ 2          ┆ 0xc2b411ff28c5 │\n",
      "│ 72259c335975206 ┆ d1fbe4072ba0e57 ┆ seeing someone ┆               ┆            ┆ bd1fbe4072ba0e │\n",
      "│ f8…             ┆ 79…             ┆ use F…         ┆               ┆            ┆ 5779…          │\n",
      "│ …               ┆ …               ┆ …              ┆ …             ┆ …          ┆ …              │\n",
      "│ 0xa0b3498acb4da ┆ 0xf9c6e325dc393 ┆ I heard they   ┆ 1677805506000 ┆ 3          ┆ 0xf9c6e325dc39 │\n",
      "│ 42a426b80292368 ┆ 3b5ce89f4d5f6ea ┆ didn't have    ┆               ┆            ┆ 33b5ce89f4d5f6 │\n",
      "│ 9f…             ┆ 40…             ┆ Gjelina…       ┆               ┆            ┆ ea40…          │\n",
      "│ 0xb8d64737787f6 ┆ 0x67e32735f6afb ┆ it was a       ┆ 1679081187000 ┆ 2          ┆ 0x67e32735f6af │\n",
      "│ bea41c2e363c5a0 ┆ 41e60b8dddeb40a ┆ crisis, even   ┆               ┆            ┆ b41e60b8dddeb4 │\n",
      "│ 86…             ┆ 10…             ┆ erewhon is…    ┆               ┆            ┆ 0a10…          │\n",
      "│ 0xc7b81ea2eb36e ┆ 0xd2bc0234ea840 ┆ best -         ┆ 1678302129000 ┆ 3          ┆ 0xfc98a5e70a32 │\n",
      "│ c07f515274d3ccc ┆ 4a1ed8697aaba57 ┆ walkability,   ┆               ┆            ┆ 622109e8fd6329 │\n",
      "│ fe…             ┆ 2e…             ┆ weather, gje…  ┆               ┆            ┆ 21f1…          │\n",
      "│ 0x7aafd77fac9d9 ┆ 0x2912d21881be0 ┆ erewhon        ┆ 1679420703000 ┆ 239        ┆ 0x2912d21881be │\n",
      "│ f9d7307d7d25d74 ┆ 3de504a38495c12 ┆ immunity bone  ┆               ┆            ┆ 03de504a38495c │\n",
      "│ 04…             ┆ d3…             ┆ broth          ┆               ┆            ┆ 12d3…          │\n",
      "└─────────────────┴─────────────────┴────────────────┴───────────────┴────────────┴────────────────┘\n",
      "shape: (4, 12)\n",
      "┌─────┬──────────┬────────────┬─────────────┬───┬────────────┬────────────┬────────────┬───────────┐\n",
      "│ fid ┆ username ┆ display_na ┆ pfp_url     ┆ … ┆ farcaster_ ┆ external_a ┆ registered ┆ location_ │\n",
      "│ --- ┆ ---      ┆ me         ┆ ---         ┆   ┆ address    ┆ ddress     ┆ _at        ┆ id        │\n",
      "│ i64 ┆ str      ┆ ---        ┆ str         ┆   ┆ ---        ┆ ---        ┆ ---        ┆ ---       │\n",
      "│     ┆          ┆ str        ┆             ┆   ┆ str        ┆ str        ┆ i64        ┆ str       │\n",
      "╞═════╪══════════╪════════════╪═════════════╪═══╪════════════╪════════════╪════════════╪═══════════╡\n",
      "│ 2   ┆ v        ┆ Varun      ┆ https://i.s ┆ … ┆ 0x4114E33e ┆ 0x0fd5c2cf ┆ 1620676765 ┆ ChIJIQBpA │\n",
      "│     ┆          ┆ Srinivasan ┆ eadn.io/gae ┆   ┆ b831858649 ┆ 64fe2d02f3 ┆ 000        ┆ G2ahYAR_6 │\n",
      "│     ┆          ┆            ┆ /sYAr036bd… ┆   ┆ ea3702E1C9 ┆ 09f616fa36 ┆            ┆ 128GcTUEo │\n",
      "│     ┆          ┆            ┆             ┆   ┆ a2…        ┆ 23…        ┆            ┆           │\n",
      "│ 3   ┆ dwr      ┆ Dan Romero ┆ https://res ┆ … ┆ 0x74232BF6 ┆ 0xd7029bde ┆ 1620676480 ┆ ChIJE9on3 │\n",
      "│     ┆          ┆            ┆ .cloudinary ┆   ┆ 1e99465559 ┆ a1c1749389 ┆ 000        ┆ F3HwoAR9A │\n",
      "│     ┆          ┆            ┆ .com/merkl… ┆   ┆ 2747E20bDF ┆ 3aafe29aad ┆            ┆ hGJW_fL-I │\n",
      "│     ┆          ┆            ┆             ┆   ┆ 6f…        ┆ 69…        ┆            ┆           │\n",
      "│ 239 ┆ ted      ┆ ted (not   ┆ https://ope ┆ … ┆ 0xc6792541 ┆ 0x0aa34eb6 ┆ 1636739051 ┆ ChIJD7fiB │\n",
      "│     ┆          ┆ lasso) 🍑  ┆ nseauserdat ┆   ┆ 8DC8026572 ┆ 15ab330b64 ┆ 000        ┆ h9u5kcRYJ │\n",
      "│     ┆          ┆            ┆ a.com/file… ┆   ┆ 0244594c63 ┆ 060ff9fa99 ┆            ┆ SMaMOCCwQ │\n",
      "│     ┆          ┆            ┆             ┆   ┆ 2b…        ┆ 4e…        ┆            ┆           │\n",
      "│ 474 ┆ pdr      ┆ Peter Rood ┆ https://i.s ┆ … ┆ 0xd09cf607 ┆ 0x10f84c01 ┆ 1646329514 ┆ ChIJIQBpA │\n",
      "│     ┆          ┆            ┆ eadn.io/gae ┆   ┆ 675eaE5950 ┆ c184e24e24 ┆ 000        ┆ G2ahYAR_6 │\n",
      "│     ┆          ┆            ┆ /F-g4Y0Ola… ┆   ┆ 17309F46F0 ┆ b3f4bbaabb ┆            ┆ 128GcTUEo │\n",
      "│     ┆          ┆            ┆             ┆   ┆ 83…        ┆ 71…        ┆            ┆           │\n",
      "└─────┴──────────┴────────────┴─────────────┴───┴────────────┴────────────┴────────────┴───────────┘\n"
     ]
    }
   ],
   "source": [
    "# you can also use pandas or polars to process things\n",
    "# ex: get all users where they have at least 5 casts that contain \"gjelina\" or \"erewhon\"\n",
    "import polars as pl\n",
    "\n",
    "cast_query = \"select * from casts\"\n",
    "\n",
    "with duckdb.connect('datasets/datasets.db') as con:\n",
    "    cast_df = con.sql(cast_query).df()\n",
    "\n",
    "# get all users where they have at least 5 casts that contain \"gjelina\" or \"erewhon\"\n",
    "cast_df = cast_df[cast_df['text'].str.contains('gjelina|erewhon', case=False)]\n",
    "cast_df = cast_df.groupby('author_fid').filter(lambda x: len(x) >= 5)\n",
    "print(pl.DataFrame._from_pandas(cast_df))\n",
    "\n",
    "# get the user info, then print it out\n",
    "fids = cast_df['author_fid'].unique()\n",
    "user_query = \"select * from read_parquet('datasets/users.parquet')\"\n",
    "users_df = duckdb.query(user_query).df()\n",
    "users_df = users_df[users_df['fid'].isin(fids)]\n",
    "print(pl.DataFrame._from_pandas(users_df))\n"
   ]
  },
  {
   "cell_type": "code",
   "execution_count": 9,
   "metadata": {},
   "outputs": [
    {
     "data": {
      "image/png": "[encoded data removed]",
      "text/plain": [
       "<Figure size 640x480 with 1 Axes>"
      ]
     },
     "metadata": {},
     "output_type": "display_data"
    }
   ],
   "source": [
    "# you can also use seaborn/matplotlib to visualize things\n",
    "# ex: plot top 10 farcasters' most frequent locations\n",
    "import seaborn as sns\n",
    "import matplotlib.pyplot as plt\n",
    "\n",
    "# get top 10 farcasters' most frequent locations\n",
    "query = \"\"\"\n",
    "SELECT l.description, COUNT(*) AS count\n",
    "FROM users u\n",
    "JOIN locations l ON u.location_id = l.id\n",
    "WHERE u.farcaster_address IS NOT NULL\n",
    "GROUP BY l.description\n",
    "ORDER BY count DESC\n",
    "LIMIT 10;\n",
    "\"\"\"\n",
    "\n",
    "\n",
    "with duckdb.connect('datasets/datasets.db') as con:\n",
    "    df = con.sql(query).df()\n",
    "\n",
    "sns.barplot(x='count', y='description', data=df, palette=\"deep\")\n",
    "plt.show()\n",
    "\n"
   ]
  },
  {
   "attachments": {},
   "cell_type": "markdown",
   "metadata": {},
   "source": [
    "I hope you enjoy using Warpy!\n",
    "\n",
    "Complaints, comments, feedback to go @pixel on Farcaster :)\n"
   ]
  }
 ],
 "metadata": {
  "kernelspec": {
   "display_name": "venv",
   "language": "python",
   "name": "python3"
  },
  "language_info": {
   "codemirror_mode": {
    "name": "ipython",
    "version": 3
   },
   "file_extension": ".py",
   "mimetype": "text/x-python",
   "name": "python",
   "nbconvert_exporter": "python",
   "pygments_lexer": "ipython3",
   "version": "3.11.2"
  },
  "orig_nbformat": 4
 },
 "nbformat": 4,
 "nbformat_minor": 2
}
